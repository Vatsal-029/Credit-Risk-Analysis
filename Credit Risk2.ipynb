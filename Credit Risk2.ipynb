{
 "cells": [
  {
   "cell_type": "code",
   "execution_count": 1,
   "metadata": {},
   "outputs": [],
   "source": [
    "import pandas as pd\n",
    "import numpy as np\n",
    "import matplotlib.pyplot as plt\n",
    "import seaborn as sns\n",
    "import warnings\n",
    "warnings.filterwarnings('ignore')"
   ]
  },
  {
   "cell_type": "code",
   "execution_count": 2,
   "metadata": {},
   "outputs": [],
   "source": [
    "pd.set_option('display.max_columns',None)"
   ]
  },
  {
   "cell_type": "code",
   "execution_count": 3,
   "metadata": {},
   "outputs": [
    {
     "data": {
      "text/html": [
       "<div>\n",
       "<style scoped>\n",
       "    .dataframe tbody tr th:only-of-type {\n",
       "        vertical-align: middle;\n",
       "    }\n",
       "\n",
       "    .dataframe tbody tr th {\n",
       "        vertical-align: top;\n",
       "    }\n",
       "\n",
       "    .dataframe thead th {\n",
       "        text-align: right;\n",
       "    }\n",
       "</style>\n",
       "<table border=\"1\" class=\"dataframe\">\n",
       "  <thead>\n",
       "    <tr style=\"text-align: right;\">\n",
       "      <th></th>\n",
       "      <th>Loan_ID</th>\n",
       "      <th>Gender</th>\n",
       "      <th>Married</th>\n",
       "      <th>Dependents</th>\n",
       "      <th>Education</th>\n",
       "      <th>Self_Employed</th>\n",
       "      <th>ApplicantIncome</th>\n",
       "      <th>CoapplicantIncome</th>\n",
       "      <th>LoanAmount</th>\n",
       "      <th>Loan_Amount_Term</th>\n",
       "      <th>Credit_History</th>\n",
       "      <th>Property_Area</th>\n",
       "      <th>Loan_Status</th>\n",
       "    </tr>\n",
       "  </thead>\n",
       "  <tbody>\n",
       "    <tr>\n",
       "      <td>0</td>\n",
       "      <td>LP001002</td>\n",
       "      <td>Male</td>\n",
       "      <td>No</td>\n",
       "      <td>0.0</td>\n",
       "      <td>Graduate</td>\n",
       "      <td>No</td>\n",
       "      <td>5849</td>\n",
       "      <td>0.0</td>\n",
       "      <td>NaN</td>\n",
       "      <td>360.0</td>\n",
       "      <td>1.0</td>\n",
       "      <td>Urban</td>\n",
       "      <td>Y</td>\n",
       "    </tr>\n",
       "    <tr>\n",
       "      <td>1</td>\n",
       "      <td>LP001003</td>\n",
       "      <td>Male</td>\n",
       "      <td>Yes</td>\n",
       "      <td>1.0</td>\n",
       "      <td>Graduate</td>\n",
       "      <td>No</td>\n",
       "      <td>4583</td>\n",
       "      <td>1508.0</td>\n",
       "      <td>128.0</td>\n",
       "      <td>360.0</td>\n",
       "      <td>1.0</td>\n",
       "      <td>Rural</td>\n",
       "      <td>N</td>\n",
       "    </tr>\n",
       "    <tr>\n",
       "      <td>2</td>\n",
       "      <td>LP001005</td>\n",
       "      <td>Male</td>\n",
       "      <td>Yes</td>\n",
       "      <td>0.0</td>\n",
       "      <td>Graduate</td>\n",
       "      <td>Yes</td>\n",
       "      <td>3000</td>\n",
       "      <td>0.0</td>\n",
       "      <td>66.0</td>\n",
       "      <td>360.0</td>\n",
       "      <td>1.0</td>\n",
       "      <td>Urban</td>\n",
       "      <td>Y</td>\n",
       "    </tr>\n",
       "    <tr>\n",
       "      <td>3</td>\n",
       "      <td>LP001006</td>\n",
       "      <td>Male</td>\n",
       "      <td>Yes</td>\n",
       "      <td>0.0</td>\n",
       "      <td>Not Graduate</td>\n",
       "      <td>No</td>\n",
       "      <td>2583</td>\n",
       "      <td>2358.0</td>\n",
       "      <td>120.0</td>\n",
       "      <td>360.0</td>\n",
       "      <td>1.0</td>\n",
       "      <td>Urban</td>\n",
       "      <td>Y</td>\n",
       "    </tr>\n",
       "    <tr>\n",
       "      <td>4</td>\n",
       "      <td>LP001008</td>\n",
       "      <td>Male</td>\n",
       "      <td>No</td>\n",
       "      <td>0.0</td>\n",
       "      <td>Graduate</td>\n",
       "      <td>No</td>\n",
       "      <td>6000</td>\n",
       "      <td>0.0</td>\n",
       "      <td>141.0</td>\n",
       "      <td>360.0</td>\n",
       "      <td>1.0</td>\n",
       "      <td>Urban</td>\n",
       "      <td>Y</td>\n",
       "    </tr>\n",
       "  </tbody>\n",
       "</table>\n",
       "</div>"
      ],
      "text/plain": [
       "    Loan_ID Gender Married  Dependents     Education Self_Employed  \\\n",
       "0  LP001002   Male      No         0.0      Graduate            No   \n",
       "1  LP001003   Male     Yes         1.0      Graduate            No   \n",
       "2  LP001005   Male     Yes         0.0      Graduate           Yes   \n",
       "3  LP001006   Male     Yes         0.0  Not Graduate            No   \n",
       "4  LP001008   Male      No         0.0      Graduate            No   \n",
       "\n",
       "   ApplicantIncome  CoapplicantIncome  LoanAmount  Loan_Amount_Term  \\\n",
       "0             5849                0.0         NaN             360.0   \n",
       "1             4583             1508.0       128.0             360.0   \n",
       "2             3000                0.0        66.0             360.0   \n",
       "3             2583             2358.0       120.0             360.0   \n",
       "4             6000                0.0       141.0             360.0   \n",
       "\n",
       "   Credit_History Property_Area Loan_Status  \n",
       "0             1.0         Urban           Y  \n",
       "1             1.0         Rural           N  \n",
       "2             1.0         Urban           Y  \n",
       "3             1.0         Urban           Y  \n",
       "4             1.0         Urban           Y  "
      ]
     },
     "execution_count": 3,
     "metadata": {},
     "output_type": "execute_result"
    }
   ],
   "source": [
    "df= pd.read_csv(r'C:\\Users\\Vatsal\\Desktop\\projects\\Data Sets\\Class\\Credit Risk\\risk_analytics_train.csv')\n",
    "df.head()"
   ]
  },
  {
   "cell_type": "code",
   "execution_count": 4,
   "metadata": {},
   "outputs": [
    {
     "data": {
      "text/plain": [
       "(614, 13)"
      ]
     },
     "execution_count": 4,
     "metadata": {},
     "output_type": "execute_result"
    }
   ],
   "source": [
    "df.shape"
   ]
  },
  {
   "cell_type": "code",
   "execution_count": 5,
   "metadata": {},
   "outputs": [],
   "source": [
    "df_rev=pd.DataFrame(df)"
   ]
  },
  {
   "cell_type": "code",
   "execution_count": 6,
   "metadata": {},
   "outputs": [
    {
     "data": {
      "text/plain": [
       "Loan_ID               0\n",
       "Gender               13\n",
       "Married               3\n",
       "Dependents           15\n",
       "Education             0\n",
       "Self_Employed        32\n",
       "ApplicantIncome       0\n",
       "CoapplicantIncome     0\n",
       "LoanAmount           22\n",
       "Loan_Amount_Term     14\n",
       "Credit_History       50\n",
       "Property_Area         0\n",
       "Loan_Status           0\n",
       "dtype: int64"
      ]
     },
     "execution_count": 6,
     "metadata": {},
     "output_type": "execute_result"
    }
   ],
   "source": [
    "df_rev.isnull().sum()"
   ]
  },
  {
   "cell_type": "code",
   "execution_count": 7,
   "metadata": {},
   "outputs": [],
   "source": [
    "colname=[\"Gender\",\"Married\",\"Dependents\",\"Self_Employed\",\"Loan_Amount_Term\"]\n",
    "\n",
    "for x in colname:\n",
    "    df_rev[x].fillna(df_rev[x].mode()[0],inplace=True)"
   ]
  },
  {
   "cell_type": "code",
   "execution_count": 8,
   "metadata": {},
   "outputs": [
    {
     "data": {
      "text/plain": [
       "Loan_ID               0\n",
       "Gender                0\n",
       "Married               0\n",
       "Dependents            0\n",
       "Education             0\n",
       "Self_Employed         0\n",
       "ApplicantIncome       0\n",
       "CoapplicantIncome     0\n",
       "LoanAmount           22\n",
       "Loan_Amount_Term      0\n",
       "Credit_History       50\n",
       "Property_Area         0\n",
       "Loan_Status           0\n",
       "dtype: int64"
      ]
     },
     "execution_count": 8,
     "metadata": {},
     "output_type": "execute_result"
    }
   ],
   "source": [
    "df_rev.isnull().sum()"
   ]
  },
  {
   "cell_type": "code",
   "execution_count": 9,
   "metadata": {},
   "outputs": [
    {
     "data": {
      "text/plain": [
       "1.0"
      ]
     },
     "execution_count": 9,
     "metadata": {},
     "output_type": "execute_result"
    }
   ],
   "source": [
    "import statistics\n",
    "statistics.mode(df_rev['Credit_History'])"
   ]
  },
  {
   "cell_type": "code",
   "execution_count": 10,
   "metadata": {},
   "outputs": [],
   "source": [
    "df_rev['Credit_History'].fillna(value=1,inplace = True)\n",
    "df_rev['LoanAmount'].fillna(round(df_rev['LoanAmount'].mean(),0), inplace=True)"
   ]
  },
  {
   "cell_type": "code",
   "execution_count": 11,
   "metadata": {},
   "outputs": [
    {
     "data": {
      "text/plain": [
       "Loan_ID              0\n",
       "Gender               0\n",
       "Married              0\n",
       "Dependents           0\n",
       "Education            0\n",
       "Self_Employed        0\n",
       "ApplicantIncome      0\n",
       "CoapplicantIncome    0\n",
       "LoanAmount           0\n",
       "Loan_Amount_Term     0\n",
       "Credit_History       0\n",
       "Property_Area        0\n",
       "Loan_Status          0\n",
       "dtype: int64"
      ]
     },
     "execution_count": 11,
     "metadata": {},
     "output_type": "execute_result"
    }
   ],
   "source": [
    "df_rev.isnull().sum()"
   ]
  },
  {
   "cell_type": "code",
   "execution_count": 12,
   "metadata": {},
   "outputs": [
    {
     "data": {
      "text/html": [
       "<div>\n",
       "<style scoped>\n",
       "    .dataframe tbody tr th:only-of-type {\n",
       "        vertical-align: middle;\n",
       "    }\n",
       "\n",
       "    .dataframe tbody tr th {\n",
       "        vertical-align: top;\n",
       "    }\n",
       "\n",
       "    .dataframe thead th {\n",
       "        text-align: right;\n",
       "    }\n",
       "</style>\n",
       "<table border=\"1\" class=\"dataframe\">\n",
       "  <thead>\n",
       "    <tr style=\"text-align: right;\">\n",
       "      <th></th>\n",
       "      <th>Dependents</th>\n",
       "      <th>ApplicantIncome</th>\n",
       "      <th>CoapplicantIncome</th>\n",
       "      <th>LoanAmount</th>\n",
       "      <th>Loan_Amount_Term</th>\n",
       "      <th>Credit_History</th>\n",
       "    </tr>\n",
       "  </thead>\n",
       "  <tbody>\n",
       "    <tr>\n",
       "      <td>Dependents</td>\n",
       "      <td>1.000000</td>\n",
       "      <td>0.118202</td>\n",
       "      <td>0.030430</td>\n",
       "      <td>0.163108</td>\n",
       "      <td>-0.103864</td>\n",
       "      <td>-0.040160</td>\n",
       "    </tr>\n",
       "    <tr>\n",
       "      <td>ApplicantIncome</td>\n",
       "      <td>0.118202</td>\n",
       "      <td>1.000000</td>\n",
       "      <td>-0.116605</td>\n",
       "      <td>0.565621</td>\n",
       "      <td>-0.046531</td>\n",
       "      <td>-0.018615</td>\n",
       "    </tr>\n",
       "    <tr>\n",
       "      <td>CoapplicantIncome</td>\n",
       "      <td>0.030430</td>\n",
       "      <td>-0.116605</td>\n",
       "      <td>1.000000</td>\n",
       "      <td>0.187863</td>\n",
       "      <td>-0.059383</td>\n",
       "      <td>0.011134</td>\n",
       "    </tr>\n",
       "    <tr>\n",
       "      <td>LoanAmount</td>\n",
       "      <td>0.163108</td>\n",
       "      <td>0.565621</td>\n",
       "      <td>0.187863</td>\n",
       "      <td>1.000000</td>\n",
       "      <td>0.036486</td>\n",
       "      <td>-0.001412</td>\n",
       "    </tr>\n",
       "    <tr>\n",
       "      <td>Loan_Amount_Term</td>\n",
       "      <td>-0.103864</td>\n",
       "      <td>-0.046531</td>\n",
       "      <td>-0.059383</td>\n",
       "      <td>0.036486</td>\n",
       "      <td>1.000000</td>\n",
       "      <td>-0.004705</td>\n",
       "    </tr>\n",
       "    <tr>\n",
       "      <td>Credit_History</td>\n",
       "      <td>-0.040160</td>\n",
       "      <td>-0.018615</td>\n",
       "      <td>0.011134</td>\n",
       "      <td>-0.001412</td>\n",
       "      <td>-0.004705</td>\n",
       "      <td>1.000000</td>\n",
       "    </tr>\n",
       "  </tbody>\n",
       "</table>\n",
       "</div>"
      ],
      "text/plain": [
       "                   Dependents  ApplicantIncome  CoapplicantIncome  LoanAmount  \\\n",
       "Dependents           1.000000         0.118202           0.030430    0.163108   \n",
       "ApplicantIncome      0.118202         1.000000          -0.116605    0.565621   \n",
       "CoapplicantIncome    0.030430        -0.116605           1.000000    0.187863   \n",
       "LoanAmount           0.163108         0.565621           0.187863    1.000000   \n",
       "Loan_Amount_Term    -0.103864        -0.046531          -0.059383    0.036486   \n",
       "Credit_History      -0.040160        -0.018615           0.011134   -0.001412   \n",
       "\n",
       "                   Loan_Amount_Term  Credit_History  \n",
       "Dependents                -0.103864       -0.040160  \n",
       "ApplicantIncome           -0.046531       -0.018615  \n",
       "CoapplicantIncome         -0.059383        0.011134  \n",
       "LoanAmount                 0.036486       -0.001412  \n",
       "Loan_Amount_Term           1.000000       -0.004705  \n",
       "Credit_History            -0.004705        1.000000  "
      ]
     },
     "execution_count": 12,
     "metadata": {},
     "output_type": "execute_result"
    }
   ],
   "source": [
    "df_rev.corr()"
   ]
  },
  {
   "cell_type": "code",
   "execution_count": 13,
   "metadata": {},
   "outputs": [],
   "source": [
    "#Dropping variables manually (Domain knowledge based)"
   ]
  },
  {
   "cell_type": "code",
   "execution_count": 14,
   "metadata": {},
   "outputs": [
    {
     "data": {
      "text/html": [
       "<div>\n",
       "<style scoped>\n",
       "    .dataframe tbody tr th:only-of-type {\n",
       "        vertical-align: middle;\n",
       "    }\n",
       "\n",
       "    .dataframe tbody tr th {\n",
       "        vertical-align: top;\n",
       "    }\n",
       "\n",
       "    .dataframe thead th {\n",
       "        text-align: right;\n",
       "    }\n",
       "</style>\n",
       "<table border=\"1\" class=\"dataframe\">\n",
       "  <thead>\n",
       "    <tr style=\"text-align: right;\">\n",
       "      <th></th>\n",
       "      <th>Loan_ID</th>\n",
       "      <th>Dependents</th>\n",
       "      <th>ApplicantIncome</th>\n",
       "      <th>CoapplicantIncome</th>\n",
       "      <th>LoanAmount</th>\n",
       "      <th>Loan_Amount_Term</th>\n",
       "      <th>Credit_History</th>\n",
       "      <th>Loan_Status</th>\n",
       "    </tr>\n",
       "  </thead>\n",
       "  <tbody>\n",
       "    <tr>\n",
       "      <td>0</td>\n",
       "      <td>LP001002</td>\n",
       "      <td>0.0</td>\n",
       "      <td>5849</td>\n",
       "      <td>0.0</td>\n",
       "      <td>146.0</td>\n",
       "      <td>360.0</td>\n",
       "      <td>1.0</td>\n",
       "      <td>Y</td>\n",
       "    </tr>\n",
       "    <tr>\n",
       "      <td>1</td>\n",
       "      <td>LP001003</td>\n",
       "      <td>1.0</td>\n",
       "      <td>4583</td>\n",
       "      <td>1508.0</td>\n",
       "      <td>128.0</td>\n",
       "      <td>360.0</td>\n",
       "      <td>1.0</td>\n",
       "      <td>N</td>\n",
       "    </tr>\n",
       "    <tr>\n",
       "      <td>2</td>\n",
       "      <td>LP001005</td>\n",
       "      <td>0.0</td>\n",
       "      <td>3000</td>\n",
       "      <td>0.0</td>\n",
       "      <td>66.0</td>\n",
       "      <td>360.0</td>\n",
       "      <td>1.0</td>\n",
       "      <td>Y</td>\n",
       "    </tr>\n",
       "    <tr>\n",
       "      <td>3</td>\n",
       "      <td>LP001006</td>\n",
       "      <td>0.0</td>\n",
       "      <td>2583</td>\n",
       "      <td>2358.0</td>\n",
       "      <td>120.0</td>\n",
       "      <td>360.0</td>\n",
       "      <td>1.0</td>\n",
       "      <td>Y</td>\n",
       "    </tr>\n",
       "    <tr>\n",
       "      <td>4</td>\n",
       "      <td>LP001008</td>\n",
       "      <td>0.0</td>\n",
       "      <td>6000</td>\n",
       "      <td>0.0</td>\n",
       "      <td>141.0</td>\n",
       "      <td>360.0</td>\n",
       "      <td>1.0</td>\n",
       "      <td>Y</td>\n",
       "    </tr>\n",
       "  </tbody>\n",
       "</table>\n",
       "</div>"
      ],
      "text/plain": [
       "    Loan_ID  Dependents  ApplicantIncome  CoapplicantIncome  LoanAmount  \\\n",
       "0  LP001002         0.0             5849                0.0       146.0   \n",
       "1  LP001003         1.0             4583             1508.0       128.0   \n",
       "2  LP001005         0.0             3000                0.0        66.0   \n",
       "3  LP001006         0.0             2583             2358.0       120.0   \n",
       "4  LP001008         0.0             6000                0.0       141.0   \n",
       "\n",
       "   Loan_Amount_Term  Credit_History Loan_Status  \n",
       "0             360.0             1.0           Y  \n",
       "1             360.0             1.0           N  \n",
       "2             360.0             1.0           Y  \n",
       "3             360.0             1.0           Y  \n",
       "4             360.0             1.0           Y  "
      ]
     },
     "execution_count": 14,
     "metadata": {},
     "output_type": "execute_result"
    }
   ],
   "source": [
    "df_rev.drop(['Gender','Married','Education','Self_Employed','Property_Area'],axis=1, inplace=True)\n",
    "df_rev.head()"
   ]
  },
  {
   "cell_type": "code",
   "execution_count": 15,
   "metadata": {},
   "outputs": [
    {
     "data": {
      "text/plain": [
       "(614, 8)"
      ]
     },
     "execution_count": 15,
     "metadata": {},
     "output_type": "execute_result"
    }
   ],
   "source": [
    "df_rev.shape"
   ]
  },
  {
   "cell_type": "code",
   "execution_count": 16,
   "metadata": {},
   "outputs": [
    {
     "data": {
      "text/plain": [
       "['Loan_ID', 'Loan_Status']"
      ]
     },
     "execution_count": 16,
     "metadata": {},
     "output_type": "execute_result"
    }
   ],
   "source": [
    "colname =[]\n",
    "for j in df_rev.columns[:]:\n",
    "    if df_rev[j].dtype == 'object':\n",
    "        colname.append(j)\n",
    "colname"
   ]
  },
  {
   "cell_type": "code",
   "execution_count": 17,
   "metadata": {},
   "outputs": [],
   "source": [
    "from sklearn import preprocessing\n",
    "\n",
    "le = preprocessing.LabelEncoder()\n",
    "\n",
    "for j in colname:\n",
    "    df_rev[j] = le.fit_transform(df_rev[j].astype(str))"
   ]
  },
  {
   "cell_type": "code",
   "execution_count": 18,
   "metadata": {},
   "outputs": [
    {
     "data": {
      "text/plain": [
       "<matplotlib.axes._subplots.AxesSubplot at 0x1c08978b1c8>"
      ]
     },
     "execution_count": 18,
     "metadata": {},
     "output_type": "execute_result"
    },
    {
     "data": {
      "image/png": "[encoded data removed]",
      "text/plain": [
       "<Figure size 432x360 with 2 Axes>"
      ]
     },
     "metadata": {
      "needs_background": "light"
     },
     "output_type": "display_data"
    }
   ],
   "source": [
    "corrmat = df_rev.corr()\n",
    "\n",
    "f, ax = plt.subplots(figsize =(6, 5)) \n",
    "sns.heatmap(corrmat, ax = ax, cmap =\"YlGnBu\", linewidths = 0.1)"
   ]
  },
  {
   "cell_type": "code",
   "execution_count": 19,
   "metadata": {},
   "outputs": [],
   "source": [
    "X = df_rev.values[:,:-1]\n",
    "Y = df_rev.values[:,-1]\n",
    "Y = Y.astype('int')"
   ]
  },
  {
   "cell_type": "code",
   "execution_count": 20,
   "metadata": {},
   "outputs": [
    {
     "name": "stdout",
     "output_type": "stream",
     "text": [
      "[[-1.72923217 -0.73780632  0.07299082 ... -0.00473263  0.2732313\n",
      "   0.41173269]\n",
      " [-1.7235903   0.25346957 -0.13441195 ... -0.21909735  0.2732313\n",
      "   0.41173269]\n",
      " [-1.71794844 -0.73780632 -0.39374734 ... -0.95746473  0.2732313\n",
      "   0.41173269]\n",
      " ...\n",
      " [ 1.71794844  0.25346957  0.43717437 ...  1.26954655  0.2732313\n",
      "   0.41173269]\n",
      " [ 1.7235903   1.24474546  0.35706382 ...  0.48354257  0.2732313\n",
      "   0.41173269]\n",
      " [ 1.72923217 -0.73780632 -0.13441195 ... -0.15955159  0.2732313\n",
      "  -2.42876026]]\n"
     ]
    }
   ],
   "source": [
    "from sklearn.preprocessing import StandardScaler\n",
    "\n",
    "scaler = StandardScaler()\n",
    "scaler.fit(X)\n",
    "\n",
    "X = scaler.transform(X)\n",
    "print(X)"
   ]
  },
  {
   "cell_type": "code",
   "execution_count": 21,
   "metadata": {},
   "outputs": [],
   "source": [
    "from sklearn.model_selection import train_test_split\n",
    "X_train, X_test, Y_train, Y_test = train_test_split(X,Y, test_size = 0.3, random_state = 10)"
   ]
  },
  {
   "cell_type": "markdown",
   "metadata": {},
   "source": [
    "# Logistic Regression (basic model)"
   ]
  },
  {
   "cell_type": "code",
   "execution_count": 22,
   "metadata": {},
   "outputs": [
    {
     "name": "stdout",
     "output_type": "stream",
     "text": [
      "[[ 0.03704495  0.15058786  0.11183144 -0.17370844 -0.07110125 -0.03612612\n",
      "   1.31652401]]\n",
      "[0.80244324]\n"
     ]
    }
   ],
   "source": [
    "#Building the model\n",
    "from sklearn.linear_model import LogisticRegression\n",
    "classifier=LogisticRegression() # creating the model object\n",
    "#Fitting the training data in the model\n",
    "classifier.fit(X_train,Y_train)\n",
    "Y_pred = classifier.predict(X_test)\n",
    "#print(list(zip(Y_test,Y_pred)))\n",
    "\n",
    "print(classifier.coef_)\n",
    "print(classifier.intercept_)"
   ]
  },
  {
   "cell_type": "code",
   "execution_count": 23,
   "metadata": {},
   "outputs": [
    {
     "name": "stdout",
     "output_type": "stream",
     "text": [
      "[[ 16  36]\n",
      " [  1 132]]\n",
      "Classification report: \n",
      "              precision    recall  f1-score   support\n",
      "\n",
      "           0       0.94      0.31      0.46        52\n",
      "           1       0.79      0.99      0.88       133\n",
      "\n",
      "    accuracy                           0.80       185\n",
      "   macro avg       0.86      0.65      0.67       185\n",
      "weighted avg       0.83      0.80      0.76       185\n",
      "\n",
      "Accuracy of the model: 0.8\n"
     ]
    }
   ],
   "source": [
    "#Evaluating the model\n",
    "\n",
    "from sklearn.metrics import confusion_matrix, accuracy_score, classification_report\n",
    "\n",
    "cfm= confusion_matrix (Y_test,Y_pred)\n",
    "print(cfm)\n",
    "\n",
    "print(\"Classification report: \")\n",
    "\n",
    "print(classification_report(Y_test,Y_pred))\n",
    "\n",
    "acc=accuracy_score(Y_test,Y_pred)\n",
    "print(\"Accuracy of the model:\",acc)"
   ]
  },
  {
   "cell_type": "code",
   "execution_count": 24,
   "metadata": {},
   "outputs": [
    {
     "name": "stdout",
     "output_type": "stream",
     "text": [
      "0.6500867553499132\n",
      "[0.         0.69230769 1.        ]\n",
      "[0.        0.9924812 1.       ]\n"
     ]
    },
    {
     "data": {
      "image/png": "[encoded data removed]",
      "text/plain": [
       "<Figure size 432x288 with 1 Axes>"
      ]
     },
     "metadata": {
      "needs_background": "light"
     },
     "output_type": "display_data"
    }
   ],
   "source": [
    "from sklearn import metrics\n",
    "fpr, tpr,z = metrics.roc_curve(Y_test, Y_pred)\n",
    "auc = metrics.auc(fpr,tpr)\n",
    "print(auc)\n",
    "print(fpr)\n",
    "print(tpr)\n",
    "\n",
    "import matplotlib.pyplot as plt\n",
    "#%matplotlib inline\n",
    "plt.title('Receiver Operating Characteristic')\n",
    "plt.plot(fpr, tpr, 'b', label = auc)\n",
    "plt.legend(loc = 'lower right')\n",
    "plt.plot([0, 1], [0, 1],'r--')\n",
    "plt.xlim([0, 1])\n",
    "plt.ylim([0, 1])\n",
    "plt.xlabel('False Positive Rate')\n",
    "plt.ylabel('True Positive Rate')\n",
    "\n",
    "plt.show()"
   ]
  },
  {
   "cell_type": "markdown",
   "metadata": {},
   "source": [
    "# adjusting threshold (tuning technique) - Logistic Regression"
   ]
  },
  {
   "cell_type": "code",
   "execution_count": 25,
   "metadata": {},
   "outputs": [
    {
     "name": "stdout",
     "output_type": "stream",
     "text": [
      "[[0.24205758 0.75794242]\n",
      " [0.24654034 0.75345966]\n",
      " [0.2452471  0.7547529 ]\n",
      " [0.28313666 0.71686334]\n",
      " [0.2306953  0.7693047 ]\n",
      " [0.20958705 0.79041295]\n",
      " [0.88960495 0.11039505]\n",
      " [0.22518989 0.77481011]\n",
      " [0.19457839 0.80542161]\n",
      " [0.19768341 0.80231659]\n",
      " [0.22498645 0.77501355]\n",
      " [0.20476856 0.79523144]\n",
      " [0.16924005 0.83075995]\n",
      " [0.20793716 0.79206284]\n",
      " [0.91763858 0.08236142]\n",
      " [0.23190643 0.76809357]\n",
      " [0.19365471 0.80634529]\n",
      " [0.18362961 0.81637039]\n",
      " [0.24698729 0.75301271]\n",
      " [0.21860075 0.78139925]\n",
      " [0.23527744 0.76472256]\n",
      " [0.16154819 0.83845181]\n",
      " [0.23631258 0.76368742]\n",
      " [0.8717743  0.1282257 ]\n",
      " [0.18131916 0.81868084]\n",
      " [0.23040433 0.76959567]\n",
      " [0.19332913 0.80667087]\n",
      " [0.14305767 0.85694233]\n",
      " [0.22804232 0.77195768]\n",
      " [0.23749039 0.76250961]\n",
      " [0.22672775 0.77327225]\n",
      " [0.21787123 0.78212877]\n",
      " [0.16712403 0.83287597]\n",
      " [0.91323914 0.08676086]\n",
      " [0.27277918 0.72722082]\n",
      " [0.25863187 0.74136813]\n",
      " [0.27147071 0.72852929]\n",
      " [0.21187828 0.78812172]\n",
      " [0.20719405 0.79280595]\n",
      " [0.16717332 0.83282668]\n",
      " [0.21852561 0.78147439]\n",
      " [0.23935791 0.76064209]\n",
      " [0.21549364 0.78450636]\n",
      " [0.21045451 0.78954549]\n",
      " [0.21259299 0.78740701]\n",
      " [0.1453776  0.8546224 ]\n",
      " [0.22131727 0.77868273]\n",
      " [0.2820919  0.7179081 ]\n",
      " [0.19765051 0.80234949]\n",
      " [0.22622813 0.77377187]\n",
      " [0.17354724 0.82645276]\n",
      " [0.236406   0.763594  ]\n",
      " [0.21710937 0.78289063]\n",
      " [0.20497505 0.79502495]\n",
      " [0.92182097 0.07817903]\n",
      " [0.18515922 0.81484078]\n",
      " [0.17728397 0.82271603]\n",
      " [0.9275357  0.0724643 ]\n",
      " [0.26736629 0.73263371]\n",
      " [0.11936779 0.88063221]\n",
      " [0.23120791 0.76879209]\n",
      " [0.22098158 0.77901842]\n",
      " [0.22555166 0.77444834]\n",
      " [0.2027307  0.7972693 ]\n",
      " [0.19909785 0.80090215]\n",
      " [0.17739992 0.82260008]\n",
      " [0.18026678 0.81973322]\n",
      " [0.17975885 0.82024115]\n",
      " [0.18513826 0.81486174]\n",
      " [0.1975541  0.8024459 ]\n",
      " [0.16358274 0.83641726]\n",
      " [0.25089726 0.74910274]\n",
      " [0.29481226 0.70518774]\n",
      " [0.92278373 0.07721627]\n",
      " [0.15929766 0.84070234]\n",
      " [0.15606645 0.84393355]\n",
      " [0.23795271 0.76204729]\n",
      " [0.23657401 0.76342599]\n",
      " [0.90063759 0.09936241]\n",
      " [0.12615737 0.87384263]\n",
      " [0.16148772 0.83851228]\n",
      " [0.93686603 0.06313397]\n",
      " [0.22891541 0.77108459]\n",
      " [0.18688242 0.81311758]\n",
      " [0.2226102  0.7773898 ]\n",
      " [0.21835366 0.78164634]\n",
      " [0.92362046 0.07637954]\n",
      " [0.21046869 0.78953131]\n",
      " [0.9083013  0.0916987 ]\n",
      " [0.15995901 0.84004099]\n",
      " [0.20236918 0.79763082]\n",
      " [0.21653477 0.78346523]\n",
      " [0.25489003 0.74510997]\n",
      " [0.22232475 0.77767525]\n",
      " [0.21221688 0.78778312]\n",
      " [0.20299212 0.79700788]\n",
      " [0.24792837 0.75207163]\n",
      " [0.20391274 0.79608726]\n",
      " [0.90347712 0.09652288]\n",
      " [0.28745305 0.71254695]\n",
      " [0.19464928 0.80535072]\n",
      " [0.19931399 0.80068601]\n",
      " [0.17571583 0.82428417]\n",
      " [0.18807645 0.81192355]\n",
      " [0.20065787 0.79934213]\n",
      " [0.20998684 0.79001316]\n",
      " [0.18068223 0.81931777]\n",
      " [0.21980148 0.78019852]\n",
      " [0.13453167 0.86546833]\n",
      " [0.26969818 0.73030182]\n",
      " [0.16755544 0.83244456]\n",
      " [0.2067757  0.7932243 ]\n",
      " [0.18644236 0.81355764]\n",
      " [0.2003951  0.7996049 ]\n",
      " [0.1866629  0.8133371 ]\n",
      " [0.18694951 0.81305049]\n",
      " [0.26355344 0.73644656]\n",
      " [0.26172929 0.73827071]\n",
      " [0.92699489 0.07300511]\n",
      " [0.23971569 0.76028431]\n",
      " [0.25273933 0.74726067]\n",
      " [0.21485118 0.78514882]\n",
      " [0.18554243 0.81445757]\n",
      " [0.25656741 0.74343259]\n",
      " [0.20838002 0.79161998]\n",
      " [0.20579309 0.79420691]\n",
      " [0.24446795 0.75553205]\n",
      " [0.1615431  0.8384569 ]\n",
      " [0.19996746 0.80003254]\n",
      " [0.23947318 0.76052682]\n",
      " [0.23725918 0.76274082]\n",
      " [0.27330451 0.72669549]\n",
      " [0.22755559 0.77244441]\n",
      " [0.25083815 0.74916185]\n",
      " [0.21144752 0.78855248]\n",
      " [0.18250752 0.81749248]\n",
      " [0.1337499  0.8662501 ]\n",
      " [0.21610345 0.78389655]\n",
      " [0.16832217 0.83167783]\n",
      " [0.25030576 0.74969424]\n",
      " [0.23443926 0.76556074]\n",
      " [0.2345602  0.7654398 ]\n",
      " [0.18100681 0.81899319]\n",
      " [0.88710044 0.11289956]\n",
      " [0.14785102 0.85214898]\n",
      " [0.27544705 0.72455295]\n",
      " [0.2126241  0.7873759 ]\n",
      " [0.19691949 0.80308051]\n",
      " [0.23944877 0.76055123]\n",
      " [0.24476584 0.75523416]\n",
      " [0.23821275 0.76178725]\n",
      " [0.2081934  0.7918066 ]\n",
      " [0.20667144 0.79332856]\n",
      " [0.26379056 0.73620944]\n",
      " [0.22140254 0.77859746]\n",
      " [0.22803784 0.77196216]\n",
      " [0.21475988 0.78524012]\n",
      " [0.20457833 0.79542167]\n",
      " [0.9032666  0.0967334 ]\n",
      " [0.93576124 0.06423876]\n",
      " [0.22186086 0.77813914]\n",
      " [0.20941933 0.79058067]\n",
      " [0.16810311 0.83189689]\n",
      " [0.21102853 0.78897147]\n",
      " [0.2097151  0.7902849 ]\n",
      " [0.18539258 0.81460742]\n",
      " [0.18239046 0.81760954]\n",
      " [0.16866515 0.83133485]\n",
      " [0.24379523 0.75620477]\n",
      " [0.21858306 0.78141694]\n",
      " [0.20912378 0.79087622]\n",
      " [0.21784651 0.78215349]\n",
      " [0.87662398 0.12337602]\n",
      " [0.20320176 0.79679824]\n",
      " [0.2446578  0.7553422 ]\n",
      " [0.14861473 0.85138527]\n",
      " [0.21464003 0.78535997]\n",
      " [0.20472777 0.79527223]\n",
      " [0.21128566 0.78871434]\n",
      " [0.27397534 0.72602466]\n",
      " [0.10003509 0.89996491]\n",
      " [0.20075303 0.79924697]\n",
      " [0.15397911 0.84602089]\n",
      " [0.21339645 0.78660355]\n",
      " [0.22607173 0.77392827]]\n"
     ]
    }
   ],
   "source": [
    "#Store the predicted probabilities\n",
    "Y_pred_prob = classifier.predict_proba(X_test)\n",
    "print(Y_pred_prob)"
   ]
  },
  {
   "cell_type": "code",
   "execution_count": 26,
   "metadata": {
    "scrolled": true
   },
   "outputs": [
    {
     "name": "stdout",
     "output_type": "stream",
     "text": [
      "Errors at threshold  0.0 : 52  , Type 2 error: 0  , Type 1 error: 52\n",
      "Errors at threshold  0.01 : 52  , Type 2 error: 0  , Type 1 error: 52\n",
      "Errors at threshold  0.02 : 52  , Type 2 error: 0  , Type 1 error: 52\n",
      "Errors at threshold  0.03 : 52  , Type 2 error: 0  , Type 1 error: 52\n",
      "Errors at threshold  0.04 : 52  , Type 2 error: 0  , Type 1 error: 52\n",
      "Errors at threshold  0.05 : 52  , Type 2 error: 0  , Type 1 error: 52\n",
      "Errors at threshold  0.06 : 52  , Type 2 error: 0  , Type 1 error: 52\n",
      "Errors at threshold  0.07 : 50  , Type 2 error: 0  , Type 1 error: 50\n",
      "Errors at threshold  0.08 : 45  , Type 2 error: 0  , Type 1 error: 45\n",
      "Errors at threshold  0.09 : 45  , Type 2 error: 1  , Type 1 error: 44\n",
      "Errors at threshold  0.1 : 41  , Type 2 error: 1  , Type 1 error: 40\n",
      "Errors at threshold  0.11 : 41  , Type 2 error: 1  , Type 1 error: 40\n",
      "Errors at threshold  0.12 : 39  , Type 2 error: 1  , Type 1 error: 38\n",
      "Errors at threshold  0.13 : 37  , Type 2 error: 1  , Type 1 error: 36\n",
      "Errors at threshold  0.14 : 37  , Type 2 error: 1  , Type 1 error: 36\n",
      "Errors at threshold  0.15 : 37  , Type 2 error: 1  , Type 1 error: 36\n",
      "Errors at threshold  0.16 : 37  , Type 2 error: 1  , Type 1 error: 36\n",
      "Errors at threshold  0.17 : 37  , Type 2 error: 1  , Type 1 error: 36\n",
      "Errors at threshold  0.18 : 37  , Type 2 error: 1  , Type 1 error: 36\n",
      "Errors at threshold  0.19 : 37  , Type 2 error: 1  , Type 1 error: 36\n",
      "Errors at threshold  0.2 : 37  , Type 2 error: 1  , Type 1 error: 36\n",
      "Errors at threshold  0.21 : 37  , Type 2 error: 1  , Type 1 error: 36\n",
      "Errors at threshold  0.22 : 37  , Type 2 error: 1  , Type 1 error: 36\n",
      "Errors at threshold  0.23 : 37  , Type 2 error: 1  , Type 1 error: 36\n",
      "Errors at threshold  0.24 : 37  , Type 2 error: 1  , Type 1 error: 36\n",
      "Errors at threshold  0.25 : 37  , Type 2 error: 1  , Type 1 error: 36\n",
      "Errors at threshold  0.26 : 37  , Type 2 error: 1  , Type 1 error: 36\n",
      "Errors at threshold  0.27 : 37  , Type 2 error: 1  , Type 1 error: 36\n",
      "Errors at threshold  0.28 : 37  , Type 2 error: 1  , Type 1 error: 36\n",
      "Errors at threshold  0.29 : 37  , Type 2 error: 1  , Type 1 error: 36\n",
      "Errors at threshold  0.3 : 37  , Type 2 error: 1  , Type 1 error: 36\n",
      "Errors at threshold  0.31 : 37  , Type 2 error: 1  , Type 1 error: 36\n",
      "Errors at threshold  0.32 : 37  , Type 2 error: 1  , Type 1 error: 36\n",
      "Errors at threshold  0.33 : 37  , Type 2 error: 1  , Type 1 error: 36\n",
      "Errors at threshold  0.34 : 37  , Type 2 error: 1  , Type 1 error: 36\n",
      "Errors at threshold  0.35000000000000003 : 37  , Type 2 error: 1  , Type 1 error: 36\n",
      "Errors at threshold  0.36 : 37  , Type 2 error: 1  , Type 1 error: 36\n",
      "Errors at threshold  0.37 : 37  , Type 2 error: 1  , Type 1 error: 36\n",
      "Errors at threshold  0.38 : 37  , Type 2 error: 1  , Type 1 error: 36\n",
      "Errors at threshold  0.39 : 37  , Type 2 error: 1  , Type 1 error: 36\n",
      "Errors at threshold  0.4 : 37  , Type 2 error: 1  , Type 1 error: 36\n",
      "Errors at threshold  0.41000000000000003 : 37  , Type 2 error: 1  , Type 1 error: 36\n",
      "Errors at threshold  0.42 : 37  , Type 2 error: 1  , Type 1 error: 36\n",
      "Errors at threshold  0.43 : 37  , Type 2 error: 1  , Type 1 error: 36\n",
      "Errors at threshold  0.44 : 37  , Type 2 error: 1  , Type 1 error: 36\n",
      "Errors at threshold  0.45 : 37  , Type 2 error: 1  , Type 1 error: 36\n",
      "Errors at threshold  0.46 : 37  , Type 2 error: 1  , Type 1 error: 36\n",
      "Errors at threshold  0.47000000000000003 : 37  , Type 2 error: 1  , Type 1 error: 36\n",
      "Errors at threshold  0.48 : 37  , Type 2 error: 1  , Type 1 error: 36\n",
      "Errors at threshold  0.49 : 37  , Type 2 error: 1  , Type 1 error: 36\n",
      "Errors at threshold  0.5 : 37  , Type 2 error: 1  , Type 1 error: 36\n",
      "Errors at threshold  0.51 : 37  , Type 2 error: 1  , Type 1 error: 36\n",
      "Errors at threshold  0.52 : 37  , Type 2 error: 1  , Type 1 error: 36\n",
      "Errors at threshold  0.53 : 37  , Type 2 error: 1  , Type 1 error: 36\n",
      "Errors at threshold  0.54 : 37  , Type 2 error: 1  , Type 1 error: 36\n",
      "Errors at threshold  0.55 : 37  , Type 2 error: 1  , Type 1 error: 36\n",
      "Errors at threshold  0.56 : 37  , Type 2 error: 1  , Type 1 error: 36\n",
      "Errors at threshold  0.5700000000000001 : 37  , Type 2 error: 1  , Type 1 error: 36\n",
      "Errors at threshold  0.58 : 37  , Type 2 error: 1  , Type 1 error: 36\n",
      "Errors at threshold  0.59 : 37  , Type 2 error: 1  , Type 1 error: 36\n",
      "Errors at threshold  0.6 : 37  , Type 2 error: 1  , Type 1 error: 36\n",
      "Errors at threshold  0.61 : 37  , Type 2 error: 1  , Type 1 error: 36\n",
      "Errors at threshold  0.62 : 37  , Type 2 error: 1  , Type 1 error: 36\n",
      "Errors at threshold  0.63 : 37  , Type 2 error: 1  , Type 1 error: 36\n",
      "Errors at threshold  0.64 : 37  , Type 2 error: 1  , Type 1 error: 36\n",
      "Errors at threshold  0.65 : 37  , Type 2 error: 1  , Type 1 error: 36\n",
      "Errors at threshold  0.66 : 37  , Type 2 error: 1  , Type 1 error: 36\n",
      "Errors at threshold  0.67 : 37  , Type 2 error: 1  , Type 1 error: 36\n",
      "Errors at threshold  0.68 : 37  , Type 2 error: 1  , Type 1 error: 36\n",
      "Errors at threshold  0.6900000000000001 : 37  , Type 2 error: 1  , Type 1 error: 36\n",
      "Errors at threshold  0.7000000000000001 : 37  , Type 2 error: 1  , Type 1 error: 36\n",
      "Errors at threshold  0.71 : 38  , Type 2 error: 2  , Type 1 error: 36\n",
      "Errors at threshold  0.72 : 37  , Type 2 error: 3  , Type 1 error: 34\n",
      "Errors at threshold  0.73 : 42  , Type 2 error: 8  , Type 1 error: 34\n",
      "Errors at threshold  0.74 : 45  , Type 2 error: 12  , Type 1 error: 33\n",
      "Errors at threshold  0.75 : 50  , Type 2 error: 18  , Type 1 error: 32\n",
      "Errors at threshold  0.76 : 57  , Type 2 error: 26  , Type 1 error: 31\n",
      "Errors at threshold  0.77 : 71  , Type 2 error: 42  , Type 1 error: 29\n",
      "Errors at threshold  0.78 : 75  , Type 2 error: 52  , Type 1 error: 23\n",
      "Errors at threshold  0.79 : 79  , Type 2 error: 66  , Type 1 error: 13\n",
      "Errors at threshold  0.8 : 99  , Type 2 error: 88  , Type 1 error: 11\n",
      "Errors at threshold  0.81 : 106  , Type 2 error: 97  , Type 1 error: 9\n",
      "Errors at threshold  0.8200000000000001 : 120  , Type 2 error: 112  , Type 1 error: 8\n",
      "Errors at threshold  0.8300000000000001 : 121  , Type 2 error: 115  , Type 1 error: 6\n",
      "Errors at threshold  0.84 : 126  , Type 2 error: 123  , Type 1 error: 3\n",
      "Errors at threshold  0.85 : 128  , Type 2 error: 126  , Type 1 error: 2\n",
      "Errors at threshold  0.86 : 132  , Type 2 error: 130  , Type 1 error: 2\n",
      "Errors at threshold  0.87 : 130  , Type 2 error: 130  , Type 1 error: 0\n",
      "Errors at threshold  0.88 : 131  , Type 2 error: 131  , Type 1 error: 0\n",
      "Errors at threshold  0.89 : 132  , Type 2 error: 132  , Type 1 error: 0\n",
      "Errors at threshold  0.9 : 133  , Type 2 error: 133  , Type 1 error: 0\n",
      "Errors at threshold  0.91 : 133  , Type 2 error: 133  , Type 1 error: 0\n",
      "Errors at threshold  0.92 : 133  , Type 2 error: 133  , Type 1 error: 0\n",
      "Errors at threshold  0.93 : 133  , Type 2 error: 133  , Type 1 error: 0\n",
      "Errors at threshold  0.9400000000000001 : 133  , Type 2 error: 133  , Type 1 error: 0\n",
      "Errors at threshold  0.9500000000000001 : 133  , Type 2 error: 133  , Type 1 error: 0\n",
      "Errors at threshold  0.96 : 133  , Type 2 error: 133  , Type 1 error: 0\n",
      "Errors at threshold  0.97 : 133  , Type 2 error: 133  , Type 1 error: 0\n",
      "Errors at threshold  0.98 : 133  , Type 2 error: 133  , Type 1 error: 0\n",
      "Errors at threshold  0.99 : 133  , Type 2 error: 133  , Type 1 error: 0\n"
     ]
    }
   ],
   "source": [
    "for a in np.arange(0,1,0.01):\n",
    "    predict_mine = np.where(Y_pred_prob[:,1] > a, 1, 0)\n",
    "    cfm=confusion_matrix(Y_test, predict_mine)\n",
    "    total_err=cfm[0,1]+cfm[1,0]\n",
    "    print(\"Errors at threshold \", a, \":\",total_err, \" , Type 2 error:\",\n",
    "       cfm[1,0],\" , Type 1 error:\", cfm[0,1])"
   ]
  },
  {
   "cell_type": "code",
   "execution_count": 27,
   "metadata": {},
   "outputs": [
    {
     "name": "stdout",
     "output_type": "stream",
     "text": [
      "[1, 1, 1, 0, 1, 1, 0, 1, 1, 1, 1, 1, 1, 1, 0, 1, 1, 1, 1, 1, 1, 1, 1, 0, 1, 1, 1, 1, 1, 1, 1, 1, 1, 0, 0, 1, 0, 1, 1, 1, 1, 1, 1, 1, 1, 1, 1, 0, 1, 1, 1, 1, 1, 1, 0, 1, 1, 0, 1, 1, 1, 1, 1, 1, 1, 1, 1, 1, 1, 1, 1, 1, 0, 0, 1, 1, 1, 1, 0, 1, 1, 0, 1, 1, 1, 1, 0, 1, 0, 1, 1, 1, 1, 1, 1, 1, 1, 1, 0, 0, 1, 1, 1, 1, 1, 1, 1, 1, 1, 1, 1, 1, 1, 1, 1, 1, 1, 1, 0, 1, 1, 1, 1, 1, 1, 1, 1, 1, 1, 1, 1, 0, 1, 1, 1, 1, 1, 1, 1, 1, 1, 1, 1, 0, 1, 0, 1, 1, 1, 1, 1, 1, 1, 1, 1, 1, 1, 1, 0, 0, 1, 1, 1, 1, 1, 1, 1, 1, 1, 1, 1, 1, 0, 1, 1, 1, 1, 1, 1, 0, 1, 1, 1, 1, 1]\n"
     ]
    }
   ],
   "source": [
    "Y_pred_class = []\n",
    "for value in Y_pred_prob[:,1]:\n",
    "    if value > 0.73:\n",
    "        Y_pred_class.append(1)\n",
    "    else:\n",
    "        Y_pred_class.append(0)\n",
    "print(Y_pred_class)"
   ]
  },
  {
   "cell_type": "code",
   "execution_count": 28,
   "metadata": {},
   "outputs": [
    {
     "name": "stdout",
     "output_type": "stream",
     "text": [
      "[[ 18  34]\n",
      " [  8 125]]\n",
      "Classification report: \n",
      "              precision    recall  f1-score   support\n",
      "\n",
      "           0       0.69      0.35      0.46        52\n",
      "           1       0.79      0.94      0.86       133\n",
      "\n",
      "    accuracy                           0.77       185\n",
      "   macro avg       0.74      0.64      0.66       185\n",
      "weighted avg       0.76      0.77      0.75       185\n",
      "\n",
      "Accuracy of the model: 0.772972972972973\n"
     ]
    }
   ],
   "source": [
    "#Evaluating the model\n",
    "\n",
    "from sklearn.metrics import confusion_matrix, accuracy_score, classification_report\n",
    "\n",
    "cfm= confusion_matrix (Y_test,Y_pred_class)\n",
    "print(cfm)\n",
    "\n",
    "print(\"Classification report: \")\n",
    "\n",
    "print(classification_report(Y_test,Y_pred_class))\n",
    "\n",
    "acc=accuracy_score(Y_test,Y_pred_class)\n",
    "print(\"Accuracy of the model:\",acc)"
   ]
  },
  {
   "cell_type": "code",
   "execution_count": 29,
   "metadata": {},
   "outputs": [
    {
     "name": "stdout",
     "output_type": "stream",
     "text": [
      "0.6500867553499132\n",
      "[0.         0.69230769 1.        ]\n",
      "[0.        0.9924812 1.       ]\n"
     ]
    },
    {
     "data": {
      "image/png": "[encoded data removed]",
      "text/plain": [
       "<Figure size 432x288 with 1 Axes>"
      ]
     },
     "metadata": {
      "needs_background": "light"
     },
     "output_type": "display_data"
    }
   ],
   "source": [
    "from sklearn import metrics\n",
    "fpr, tpr,z = metrics.roc_curve(Y_test, Y_pred)\n",
    "auc = metrics.auc(fpr,tpr)\n",
    "print(auc)\n",
    "print(fpr)\n",
    "print(tpr)\n",
    "\n",
    "import matplotlib.pyplot as plt\n",
    "#%matplotlib inline\n",
    "plt.title('Receiver Operating Characteristic')\n",
    "plt.plot(fpr, tpr, 'b', label = auc)\n",
    "plt.legend(loc = 'lower right')\n",
    "plt.plot([0, 1], [0, 1],'r--')\n",
    "plt.xlim([0, 1])\n",
    "plt.ylim([0, 1])\n",
    "plt.xlabel('False Positive Rate')\n",
    "plt.ylabel('True Positive Rate')\n",
    "\n",
    "plt.show()"
   ]
  },
  {
   "cell_type": "markdown",
   "metadata": {},
   "source": [
    "# cross-validation (tuning technique) - Logistic Regression"
   ]
  },
  {
   "cell_type": "code",
   "execution_count": 30,
   "metadata": {},
   "outputs": [
    {
     "name": "stdout",
     "output_type": "stream",
     "text": [
      "KFold(n_splits=8, random_state=None, shuffle=False)\n",
      "[0.83333333 0.85185185 0.94444444 0.7962963  0.7962963  0.71698113\n",
      " 0.77358491 0.79245283]\n",
      "0.8131551362683438\n"
     ]
    }
   ],
   "source": [
    "#Using cross validation\n",
    "\n",
    "classifier=(LogisticRegression())\n",
    "\n",
    "#performing kfold_cross_validation\n",
    "from sklearn.model_selection import KFold\n",
    "kfold_cv=KFold(n_splits=8)\n",
    "print(kfold_cv)\n",
    "\n",
    "from sklearn.model_selection import cross_val_score\n",
    "#running the model using scoring metric as accuracy\n",
    "kfold_cv_result=cross_val_score(estimator=classifier,X=X_train,\n",
    "y=Y_train, cv=kfold_cv)\n",
    "print(kfold_cv_result)\n",
    "#finding the mean\n",
    "print(kfold_cv_result.mean())\n",
    "\n",
    "#_______________________________________________________\n",
    "\n",
    "for train_value, test_value in kfold_cv.split(X_train):\n",
    "    classifier.fit(X_train[train_value], Y_train[train_value]).predict(X_train[test_value])\n",
    "\n",
    "\n",
    "Y_pred_1=classifier.predict(X_test)\n",
    "#print(list(zip(Y_test,Y_pred)))"
   ]
  },
  {
   "cell_type": "code",
   "execution_count": 31,
   "metadata": {},
   "outputs": [
    {
     "name": "stdout",
     "output_type": "stream",
     "text": [
      "[[ 16  36]\n",
      " [  1 132]]\n",
      "Classification report : \n",
      "              precision    recall  f1-score   support\n",
      "\n",
      "           0       0.94      0.31      0.46        52\n",
      "           1       0.79      0.99      0.88       133\n",
      "\n",
      "    accuracy                           0.80       185\n",
      "   macro avg       0.86      0.65      0.67       185\n",
      "weighted avg       0.83      0.80      0.76       185\n",
      "\n",
      "Accuracy of the model :  0.8\n"
     ]
    }
   ],
   "source": [
    "from sklearn.metrics import confusion_matrix,accuracy_score,classification_report\n",
    "\n",
    "cfm = confusion_matrix(Y_test,Y_pred_1)\n",
    "print(cfm)\n",
    "\n",
    "print(\"Classification report : \")\n",
    "\n",
    "print(classification_report(Y_test,Y_pred_1))\n",
    "\n",
    "acc = accuracy_score(Y_test,Y_pred_1)\n",
    "print(\"Accuracy of the model : \",acc)"
   ]
  },
  {
   "cell_type": "markdown",
   "metadata": {},
   "source": [
    "# Decision Tree (Base Model)"
   ]
  },
  {
   "cell_type": "code",
   "execution_count": 32,
   "metadata": {},
   "outputs": [
    {
     "data": {
      "text/plain": [
       "DecisionTreeClassifier(class_weight=None, criterion='gini', max_depth=10,\n",
       "                       max_features=None, max_leaf_nodes=None,\n",
       "                       min_impurity_decrease=0.0, min_impurity_split=None,\n",
       "                       min_samples_leaf=5, min_samples_split=2,\n",
       "                       min_weight_fraction_leaf=0.0, presort=False,\n",
       "                       random_state=15, splitter='best')"
      ]
     },
     "execution_count": 32,
     "metadata": {},
     "output_type": "execute_result"
    }
   ],
   "source": [
    "# Predicting using Decision_Tree_classifier\n",
    "from sklearn.tree import DecisionTreeClassifier\n",
    "\n",
    "model_DT = DecisionTreeClassifier(random_state = 15, min_samples_leaf=5,max_depth=10)\n",
    "\n",
    "#fit the model on the data and predict the value\n",
    "model_DT.fit(X_train,Y_train)"
   ]
  },
  {
   "cell_type": "code",
   "execution_count": 33,
   "metadata": {},
   "outputs": [
    {
     "name": "stdout",
     "output_type": "stream",
     "text": [
      "[(1, 1), (1, 1), (1, 1), (1, 1), (0, 1), (1, 1), (0, 0), (1, 1), (0, 1), (1, 1), (1, 1), (1, 1), (1, 1), (1, 0), (1, 0), (1, 1), (1, 1), (1, 0), (1, 1), (0, 1), (1, 1), (1, 1), (1, 1), (0, 0), (1, 1), (1, 1), (1, 1), (1, 1), (0, 1), (1, 1), (0, 1), (1, 1), (1, 1), (0, 0), (1, 1), (1, 1), (1, 1), (1, 1), (1, 1), (1, 1), (0, 1), (1, 1), (0, 1), (1, 1), (0, 1), (1, 1), (1, 1), (0, 1), (1, 0), (1, 1), (1, 1), (1, 1), (0, 1), (1, 1), (0, 0), (1, 0), (0, 1), (0, 0), (1, 1), (1, 1), (0, 1), (0, 1), (1, 1), (1, 1), (1, 1), (0, 1), (0, 1), (1, 1), (1, 1), (0, 1), (1, 1), (1, 1), (1, 1), (0, 0), (1, 1), (1, 1), (1, 1), (1, 1), (0, 0), (1, 1), (1, 1), (0, 0), (1, 0), (1, 0), (1, 0), (1, 1), (0, 0), (0, 1), (0, 0), (0, 1), (1, 1), (1, 1), (0, 1), (1, 1), (1, 1), (1, 1), (1, 0), (1, 1), (0, 0), (0, 1), (1, 1), (1, 1), (1, 1), (1, 1), (1, 1), (1, 0), (1, 1), (1, 1), (0, 0), (0, 1), (0, 1), (1, 1), (1, 0), (1, 0), (1, 1), (1, 1), (1, 1), (1, 1), (0, 0), (1, 1), (1, 0), (0, 1), (1, 1), (1, 1), (1, 1), (1, 0), (1, 0), (1, 1), (1, 1), (1, 1), (1, 1), (1, 1), (1, 1), (1, 1), (0, 0), (1, 1), (0, 1), (0, 0), (1, 0), (1, 1), (1, 1), (1, 1), (1, 1), (0, 0), (1, 1), (1, 1), (1, 1), (1, 1), (1, 1), (1, 1), (1, 1), (0, 1), (1, 1), (1, 1), (0, 1), (0, 1), (1, 1), (1, 0), (0, 0), (0, 0), (1, 1), (1, 1), (0, 0), (1, 1), (0, 1), (1, 1), (1, 1), (0, 1), (0, 1), (1, 1), (1, 1), (1, 1), (0, 0), (1, 1), (1, 0), (1, 1), (1, 1), (1, 1), (1, 1), (1, 1), (1, 1), (1, 1), (1, 1), (0, 1), (0, 1)]\n"
     ]
    }
   ],
   "source": [
    "Y_pred = model_DT.predict(X_test)\n",
    "print(list(zip(Y_test,Y_pred)))"
   ]
  },
  {
   "cell_type": "code",
   "execution_count": 34,
   "metadata": {},
   "outputs": [
    {
     "name": "stdout",
     "output_type": "stream",
     "text": [
      "[[ 20  32]\n",
      " [ 18 115]]\n",
      "Classification report : \n",
      "              precision    recall  f1-score   support\n",
      "\n",
      "           0       0.53      0.38      0.44        52\n",
      "           1       0.78      0.86      0.82       133\n",
      "\n",
      "    accuracy                           0.73       185\n",
      "   macro avg       0.65      0.62      0.63       185\n",
      "weighted avg       0.71      0.73      0.72       185\n",
      "\n",
      "Accuracy of the model :  0.7297297297297297\n"
     ]
    }
   ],
   "source": [
    "from sklearn.metrics import confusion_matrix,accuracy_score,classification_report\n",
    "\n",
    "cfm = confusion_matrix(Y_test,Y_pred)\n",
    "print(cfm)\n",
    "\n",
    "print(\"Classification report : \")\n",
    "\n",
    "print(classification_report(Y_test,Y_pred))\n",
    "\n",
    "acc = accuracy_score(Y_test,Y_pred)\n",
    "print(\"Accuracy of the model : \",acc)"
   ]
  },
  {
   "cell_type": "markdown",
   "metadata": {},
   "source": [
    "# SVM [Support Vector Classification] (Base model)"
   ]
  },
  {
   "cell_type": "code",
   "execution_count": 35,
   "metadata": {},
   "outputs": [
    {
     "name": "stdout",
     "output_type": "stream",
     "text": [
      "[1, 1, 1, 1, 1, 1, 0, 1, 1, 1, 1, 1, 1, 1, 0, 1, 1, 1, 1, 1, 1, 1, 1, 0, 1, 1, 1, 1, 1, 1, 1, 1, 1, 0, 1, 1, 1, 1, 1, 1, 1, 1, 1, 1, 1, 1, 1, 1, 1, 1, 1, 1, 1, 1, 0, 1, 1, 0, 1, 1, 1, 1, 1, 1, 1, 1, 1, 1, 1, 1, 1, 1, 1, 0, 1, 1, 1, 1, 0, 1, 1, 0, 1, 1, 1, 1, 0, 1, 0, 1, 1, 1, 1, 1, 1, 1, 1, 1, 0, 1, 1, 1, 1, 1, 1, 1, 1, 1, 1, 1, 1, 1, 1, 1, 1, 1, 1, 1, 0, 1, 1, 1, 1, 1, 1, 1, 1, 1, 1, 1, 1, 1, 1, 1, 1, 1, 1, 1, 1, 1, 1, 1, 1, 0, 1, 1, 1, 1, 1, 1, 1, 1, 1, 1, 1, 1, 1, 1, 0, 0, 1, 1, 1, 1, 1, 1, 1, 1, 1, 1, 1, 1, 0, 1, 1, 1, 1, 1, 1, 1, 1, 1, 1, 1, 1]\n"
     ]
    }
   ],
   "source": [
    "from sklearn import svm\n",
    "\n",
    "svc_model = svm.SVC(kernel=\"rbf\",C=10.0,gamma=0.001) \n",
    "svc_model.fit(X_train,Y_train)\n",
    "Y_pred = svc_model.predict(X_test)\n",
    "print(list(Y_pred))"
   ]
  },
  {
   "cell_type": "code",
   "execution_count": 36,
   "metadata": {},
   "outputs": [
    {
     "data": {
      "text/plain": [
       "0.8158508158508159"
      ]
     },
     "execution_count": 36,
     "metadata": {},
     "output_type": "execute_result"
    }
   ],
   "source": [
    "svc_model.score(X_train,Y_train)"
   ]
  },
  {
   "cell_type": "markdown",
   "metadata": {},
   "source": [
    "# cross-validation on SVM"
   ]
  },
  {
   "cell_type": "code",
   "execution_count": 37,
   "metadata": {},
   "outputs": [
    {
     "name": "stdout",
     "output_type": "stream",
     "text": [
      "KFold(n_splits=10, random_state=None, shuffle=False)\n",
      "[0.88372093 0.81395349 0.86046512 0.86046512 0.8372093  0.81395349\n",
      " 0.74418605 0.6744186  0.8372093  0.76190476]\n",
      "0.8087486157253598\n"
     ]
    }
   ],
   "source": [
    "#Using cross validation\n",
    "from sklearn.linear_model import LogisticRegression\n",
    "from sklearn import svm\n",
    "from sklearn.neighbors import KNeighborsClassifier\n",
    "\n",
    "classifier=svm.SVC(kernel='rbf',C=1.0,gamma=0.1)\n",
    "#classifier=KNeighborsClassifier(n_neighbors=11, metric='euclidean')\n",
    "#classifier=svm.SVC(kernel='rbf',C=10.0,gamma=0.001)\n",
    "#classifier=LogisticRegression()\n",
    "\n",
    "#performing kfold_cross_validation\n",
    "from sklearn.model_selection import KFold\n",
    "kfold_cv=KFold(n_splits=10)\n",
    "print(kfold_cv)\n",
    "\n",
    "from sklearn.model_selection import cross_val_score\n",
    "#running the model using scoring metric as accuracy\n",
    "kfold_cv_result=cross_val_score(estimator=classifier,X=X_train,\n",
    "y=Y_train, cv=kfold_cv)\n",
    "print(kfold_cv_result)\n",
    "#finding the mean\n",
    "print(kfold_cv_result.mean())"
   ]
  },
  {
   "cell_type": "code",
   "execution_count": 38,
   "metadata": {},
   "outputs": [],
   "source": [
    "# Best Fit Model is SVM (Base model)"
   ]
  }
 ],
 "metadata": {
  "kernelspec": {
   "display_name": "Python 3",
   "language": "python",
   "name": "python3"
  },
  "language_info": {
   "codemirror_mode": {
    "name": "ipython",
    "version": 3
   },
   "file_extension": ".py",
   "mimetype": "text/x-python",
   "name": "python",
   "nbconvert_exporter": "python",
   "pygments_lexer": "ipython3",
   "version": "3.7.4"
  }
 },
 "nbformat": 4,
 "nbformat_minor": 2
}
