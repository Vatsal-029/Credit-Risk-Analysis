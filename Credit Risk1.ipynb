{
 "cells": [
  {
   "cell_type": "code",
   "execution_count": 1,
   "metadata": {},
   "outputs": [],
   "source": [
    "import pandas as pd\n",
    "import numpy as np\n",
    "import matplotlib.pyplot as plt\n",
    "import seaborn as sns\n",
    "import warnings\n",
    "warnings.filterwarnings('ignore')"
   ]
  },
  {
   "cell_type": "code",
   "execution_count": 2,
   "metadata": {},
   "outputs": [],
   "source": [
    "pd.set_option('display.max_columns',None)"
   ]
  },
  {
   "cell_type": "code",
   "execution_count": 3,
   "metadata": {},
   "outputs": [
    {
     "data": {
      "text/html": [
       "<div>\n",
       "<style scoped>\n",
       "    .dataframe tbody tr th:only-of-type {\n",
       "        vertical-align: middle;\n",
       "    }\n",
       "\n",
       "    .dataframe tbody tr th {\n",
       "        vertical-align: top;\n",
       "    }\n",
       "\n",
       "    .dataframe thead th {\n",
       "        text-align: right;\n",
       "    }\n",
       "</style>\n",
       "<table border=\"1\" class=\"dataframe\">\n",
       "  <thead>\n",
       "    <tr style=\"text-align: right;\">\n",
       "      <th></th>\n",
       "      <th>Loan_ID</th>\n",
       "      <th>Gender</th>\n",
       "      <th>Married</th>\n",
       "      <th>Dependents</th>\n",
       "      <th>Education</th>\n",
       "      <th>Self_Employed</th>\n",
       "      <th>ApplicantIncome</th>\n",
       "      <th>CoapplicantIncome</th>\n",
       "      <th>LoanAmount</th>\n",
       "      <th>Loan_Amount_Term</th>\n",
       "      <th>Credit_History</th>\n",
       "      <th>Property_Area</th>\n",
       "      <th>Loan_Status</th>\n",
       "    </tr>\n",
       "  </thead>\n",
       "  <tbody>\n",
       "    <tr>\n",
       "      <td>0</td>\n",
       "      <td>LP001002</td>\n",
       "      <td>Male</td>\n",
       "      <td>No</td>\n",
       "      <td>0.0</td>\n",
       "      <td>Graduate</td>\n",
       "      <td>No</td>\n",
       "      <td>5849</td>\n",
       "      <td>0.0</td>\n",
       "      <td>NaN</td>\n",
       "      <td>360.0</td>\n",
       "      <td>1.0</td>\n",
       "      <td>Urban</td>\n",
       "      <td>Y</td>\n",
       "    </tr>\n",
       "    <tr>\n",
       "      <td>1</td>\n",
       "      <td>LP001003</td>\n",
       "      <td>Male</td>\n",
       "      <td>Yes</td>\n",
       "      <td>1.0</td>\n",
       "      <td>Graduate</td>\n",
       "      <td>No</td>\n",
       "      <td>4583</td>\n",
       "      <td>1508.0</td>\n",
       "      <td>128.0</td>\n",
       "      <td>360.0</td>\n",
       "      <td>1.0</td>\n",
       "      <td>Rural</td>\n",
       "      <td>N</td>\n",
       "    </tr>\n",
       "    <tr>\n",
       "      <td>2</td>\n",
       "      <td>LP001005</td>\n",
       "      <td>Male</td>\n",
       "      <td>Yes</td>\n",
       "      <td>0.0</td>\n",
       "      <td>Graduate</td>\n",
       "      <td>Yes</td>\n",
       "      <td>3000</td>\n",
       "      <td>0.0</td>\n",
       "      <td>66.0</td>\n",
       "      <td>360.0</td>\n",
       "      <td>1.0</td>\n",
       "      <td>Urban</td>\n",
       "      <td>Y</td>\n",
       "    </tr>\n",
       "    <tr>\n",
       "      <td>3</td>\n",
       "      <td>LP001006</td>\n",
       "      <td>Male</td>\n",
       "      <td>Yes</td>\n",
       "      <td>0.0</td>\n",
       "      <td>Not Graduate</td>\n",
       "      <td>No</td>\n",
       "      <td>2583</td>\n",
       "      <td>2358.0</td>\n",
       "      <td>120.0</td>\n",
       "      <td>360.0</td>\n",
       "      <td>1.0</td>\n",
       "      <td>Urban</td>\n",
       "      <td>Y</td>\n",
       "    </tr>\n",
       "    <tr>\n",
       "      <td>4</td>\n",
       "      <td>LP001008</td>\n",
       "      <td>Male</td>\n",
       "      <td>No</td>\n",
       "      <td>0.0</td>\n",
       "      <td>Graduate</td>\n",
       "      <td>No</td>\n",
       "      <td>6000</td>\n",
       "      <td>0.0</td>\n",
       "      <td>141.0</td>\n",
       "      <td>360.0</td>\n",
       "      <td>1.0</td>\n",
       "      <td>Urban</td>\n",
       "      <td>Y</td>\n",
       "    </tr>\n",
       "  </tbody>\n",
       "</table>\n",
       "</div>"
      ],
      "text/plain": [
       "    Loan_ID Gender Married  Dependents     Education Self_Employed  \\\n",
       "0  LP001002   Male      No         0.0      Graduate            No   \n",
       "1  LP001003   Male     Yes         1.0      Graduate            No   \n",
       "2  LP001005   Male     Yes         0.0      Graduate           Yes   \n",
       "3  LP001006   Male     Yes         0.0  Not Graduate            No   \n",
       "4  LP001008   Male      No         0.0      Graduate            No   \n",
       "\n",
       "   ApplicantIncome  CoapplicantIncome  LoanAmount  Loan_Amount_Term  \\\n",
       "0             5849                0.0         NaN             360.0   \n",
       "1             4583             1508.0       128.0             360.0   \n",
       "2             3000                0.0        66.0             360.0   \n",
       "3             2583             2358.0       120.0             360.0   \n",
       "4             6000                0.0       141.0             360.0   \n",
       "\n",
       "   Credit_History Property_Area Loan_Status  \n",
       "0             1.0         Urban           Y  \n",
       "1             1.0         Rural           N  \n",
       "2             1.0         Urban           Y  \n",
       "3             1.0         Urban           Y  \n",
       "4             1.0         Urban           Y  "
      ]
     },
     "execution_count": 3,
     "metadata": {},
     "output_type": "execute_result"
    }
   ],
   "source": [
    "df = pd.read_csv(r'C:\\Users\\Vatsal\\Desktop\\projects\\Data Sets\\Class\\Credit Risk\\risk_analytics_train.csv')\n",
    "df.head()"
   ]
  },
  {
   "cell_type": "code",
   "execution_count": 4,
   "metadata": {},
   "outputs": [
    {
     "data": {
      "text/plain": [
       "(614, 13)"
      ]
     },
     "execution_count": 4,
     "metadata": {},
     "output_type": "execute_result"
    }
   ],
   "source": [
    "df.shape"
   ]
  },
  {
   "cell_type": "code",
   "execution_count": 5,
   "metadata": {},
   "outputs": [
    {
     "data": {
      "text/plain": [
       "Loan_ID               0\n",
       "Gender               13\n",
       "Married               3\n",
       "Dependents           15\n",
       "Education             0\n",
       "Self_Employed        32\n",
       "ApplicantIncome       0\n",
       "CoapplicantIncome     0\n",
       "LoanAmount           22\n",
       "Loan_Amount_Term     14\n",
       "Credit_History       50\n",
       "Property_Area         0\n",
       "Loan_Status           0\n",
       "dtype: int64"
      ]
     },
     "execution_count": 5,
     "metadata": {},
     "output_type": "execute_result"
    }
   ],
   "source": [
    "df.isnull().sum()"
   ]
  },
  {
   "cell_type": "code",
   "execution_count": 6,
   "metadata": {},
   "outputs": [],
   "source": [
    "colname=[\"Gender\",\"Married\",\"Dependents\",\"Self_Employed\",\"Loan_Amount_Term\"]\n",
    "\n",
    "for x in colname:\n",
    "    df[x].fillna(df[x].mode()[0],inplace=True)"
   ]
  },
  {
   "cell_type": "code",
   "execution_count": 7,
   "metadata": {},
   "outputs": [
    {
     "data": {
      "text/plain": [
       "Loan_ID               0\n",
       "Gender                0\n",
       "Married               0\n",
       "Dependents            0\n",
       "Education             0\n",
       "Self_Employed         0\n",
       "ApplicantIncome       0\n",
       "CoapplicantIncome     0\n",
       "LoanAmount           22\n",
       "Loan_Amount_Term      0\n",
       "Credit_History       50\n",
       "Property_Area         0\n",
       "Loan_Status           0\n",
       "dtype: int64"
      ]
     },
     "execution_count": 7,
     "metadata": {},
     "output_type": "execute_result"
    }
   ],
   "source": [
    "df.isnull().sum()"
   ]
  },
  {
   "cell_type": "code",
   "execution_count": 8,
   "metadata": {},
   "outputs": [
    {
     "name": "stdout",
     "output_type": "stream",
     "text": [
      "Loan_ID               0\n",
      "Gender                0\n",
      "Married               0\n",
      "Dependents            0\n",
      "Education             0\n",
      "Self_Employed         0\n",
      "ApplicantIncome       0\n",
      "CoapplicantIncome     0\n",
      "LoanAmount            0\n",
      "Loan_Amount_Term      0\n",
      "Credit_History       50\n",
      "Property_Area         0\n",
      "Loan_Status           0\n",
      "dtype: int64\n"
     ]
    }
   ],
   "source": [
    "df['LoanAmount'].fillna(round(df['LoanAmount'].mean(), 0), inplace=True)\n",
    "print(df.isnull().sum())"
   ]
  },
  {
   "cell_type": "code",
   "execution_count": 9,
   "metadata": {},
   "outputs": [
    {
     "name": "stdout",
     "output_type": "stream",
     "text": [
      "Loan_ID              0\n",
      "Gender               0\n",
      "Married              0\n",
      "Dependents           0\n",
      "Education            0\n",
      "Self_Employed        0\n",
      "ApplicantIncome      0\n",
      "CoapplicantIncome    0\n",
      "LoanAmount           0\n",
      "Loan_Amount_Term     0\n",
      "Credit_History       0\n",
      "Property_Area        0\n",
      "Loan_Status          0\n",
      "dtype: int64\n"
     ]
    }
   ],
   "source": [
    "df['Credit_History'].fillna(value=0,inplace=True)\n",
    "print(df.isnull().sum())"
   ]
  },
  {
   "cell_type": "code",
   "execution_count": 10,
   "metadata": {},
   "outputs": [],
   "source": [
    "df_rev = pd.DataFrame(df)"
   ]
  },
  {
   "cell_type": "code",
   "execution_count": 11,
   "metadata": {},
   "outputs": [
    {
     "data": {
      "text/plain": [
       "(614, 13)"
      ]
     },
     "execution_count": 11,
     "metadata": {},
     "output_type": "execute_result"
    }
   ],
   "source": [
    "df_rev.shape"
   ]
  },
  {
   "cell_type": "code",
   "execution_count": 12,
   "metadata": {},
   "outputs": [
    {
     "data": {
      "text/html": [
       "<div>\n",
       "<style scoped>\n",
       "    .dataframe tbody tr th:only-of-type {\n",
       "        vertical-align: middle;\n",
       "    }\n",
       "\n",
       "    .dataframe tbody tr th {\n",
       "        vertical-align: top;\n",
       "    }\n",
       "\n",
       "    .dataframe thead th {\n",
       "        text-align: right;\n",
       "    }\n",
       "</style>\n",
       "<table border=\"1\" class=\"dataframe\">\n",
       "  <thead>\n",
       "    <tr style=\"text-align: right;\">\n",
       "      <th></th>\n",
       "      <th>Dependents</th>\n",
       "      <th>ApplicantIncome</th>\n",
       "      <th>CoapplicantIncome</th>\n",
       "      <th>LoanAmount</th>\n",
       "      <th>Loan_Amount_Term</th>\n",
       "      <th>Credit_History</th>\n",
       "    </tr>\n",
       "  </thead>\n",
       "  <tbody>\n",
       "    <tr>\n",
       "      <td>Dependents</td>\n",
       "      <td>1.000000</td>\n",
       "      <td>0.118202</td>\n",
       "      <td>0.030430</td>\n",
       "      <td>0.163108</td>\n",
       "      <td>-0.103864</td>\n",
       "      <td>-0.017523</td>\n",
       "    </tr>\n",
       "    <tr>\n",
       "      <td>ApplicantIncome</td>\n",
       "      <td>0.118202</td>\n",
       "      <td>1.000000</td>\n",
       "      <td>-0.116605</td>\n",
       "      <td>0.565621</td>\n",
       "      <td>-0.046531</td>\n",
       "      <td>0.006986</td>\n",
       "    </tr>\n",
       "    <tr>\n",
       "      <td>CoapplicantIncome</td>\n",
       "      <td>0.030430</td>\n",
       "      <td>-0.116605</td>\n",
       "      <td>1.000000</td>\n",
       "      <td>0.187863</td>\n",
       "      <td>-0.059383</td>\n",
       "      <td>-0.058795</td>\n",
       "    </tr>\n",
       "    <tr>\n",
       "      <td>LoanAmount</td>\n",
       "      <td>0.163108</td>\n",
       "      <td>0.565621</td>\n",
       "      <td>0.187863</td>\n",
       "      <td>1.000000</td>\n",
       "      <td>0.036486</td>\n",
       "      <td>-0.034518</td>\n",
       "    </tr>\n",
       "    <tr>\n",
       "      <td>Loan_Amount_Term</td>\n",
       "      <td>-0.103864</td>\n",
       "      <td>-0.046531</td>\n",
       "      <td>-0.059383</td>\n",
       "      <td>0.036486</td>\n",
       "      <td>1.000000</td>\n",
       "      <td>0.002361</td>\n",
       "    </tr>\n",
       "    <tr>\n",
       "      <td>Credit_History</td>\n",
       "      <td>-0.017523</td>\n",
       "      <td>0.006986</td>\n",
       "      <td>-0.058795</td>\n",
       "      <td>-0.034518</td>\n",
       "      <td>0.002361</td>\n",
       "      <td>1.000000</td>\n",
       "    </tr>\n",
       "  </tbody>\n",
       "</table>\n",
       "</div>"
      ],
      "text/plain": [
       "                   Dependents  ApplicantIncome  CoapplicantIncome  LoanAmount  \\\n",
       "Dependents           1.000000         0.118202           0.030430    0.163108   \n",
       "ApplicantIncome      0.118202         1.000000          -0.116605    0.565621   \n",
       "CoapplicantIncome    0.030430        -0.116605           1.000000    0.187863   \n",
       "LoanAmount           0.163108         0.565621           0.187863    1.000000   \n",
       "Loan_Amount_Term    -0.103864        -0.046531          -0.059383    0.036486   \n",
       "Credit_History      -0.017523         0.006986          -0.058795   -0.034518   \n",
       "\n",
       "                   Loan_Amount_Term  Credit_History  \n",
       "Dependents                -0.103864       -0.017523  \n",
       "ApplicantIncome           -0.046531        0.006986  \n",
       "CoapplicantIncome         -0.059383       -0.058795  \n",
       "LoanAmount                 0.036486       -0.034518  \n",
       "Loan_Amount_Term           1.000000        0.002361  \n",
       "Credit_History             0.002361        1.000000  "
      ]
     },
     "execution_count": 12,
     "metadata": {},
     "output_type": "execute_result"
    }
   ],
   "source": [
    "df_rev.corr()"
   ]
  },
  {
   "cell_type": "code",
   "execution_count": 13,
   "metadata": {},
   "outputs": [
    {
     "data": {
      "text/plain": [
       "<matplotlib.axes._subplots.AxesSubplot at 0x1c8c08ab208>"
      ]
     },
     "execution_count": 13,
     "metadata": {},
     "output_type": "execute_result"
    },
    {
     "data": {
      "image/png": "[encoded data removed]",
      "text/plain": [
       "<Figure size 432x360 with 2 Axes>"
      ]
     },
     "metadata": {
      "needs_background": "light"
     },
     "output_type": "display_data"
    }
   ],
   "source": [
    "corrmat = df_rev.corr()\n",
    "\n",
    "f, ax = plt.subplots(figsize =(6, 5)) \n",
    "sns.heatmap(corrmat, ax = ax, cmap =\"YlGnBu\", linewidths = 0.1)"
   ]
  },
  {
   "cell_type": "code",
   "execution_count": 14,
   "metadata": {},
   "outputs": [
    {
     "data": {
      "text/plain": [
       "['Loan_ID',\n",
       " 'Gender',\n",
       " 'Married',\n",
       " 'Education',\n",
       " 'Self_Employed',\n",
       " 'Property_Area',\n",
       " 'Loan_Status']"
      ]
     },
     "execution_count": 14,
     "metadata": {},
     "output_type": "execute_result"
    }
   ],
   "source": [
    "colname =[]\n",
    "for j in df_rev.columns[:]:\n",
    "    if df_rev[j].dtype == 'object':\n",
    "        colname.append(j)\n",
    "colname"
   ]
  },
  {
   "cell_type": "code",
   "execution_count": 15,
   "metadata": {},
   "outputs": [],
   "source": [
    "from sklearn import preprocessing\n",
    "\n",
    "le = preprocessing.LabelEncoder()\n",
    "\n",
    "for j in colname:\n",
    "    df_rev[j] = le.fit_transform(df_rev[j].astype(str))"
   ]
  },
  {
   "cell_type": "code",
   "execution_count": 16,
   "metadata": {},
   "outputs": [
    {
     "data": {
      "text/plain": [
       "Loan_ID                int32\n",
       "Gender                 int32\n",
       "Married                int32\n",
       "Dependents           float64\n",
       "Education              int32\n",
       "Self_Employed          int32\n",
       "ApplicantIncome        int64\n",
       "CoapplicantIncome    float64\n",
       "LoanAmount           float64\n",
       "Loan_Amount_Term     float64\n",
       "Credit_History       float64\n",
       "Property_Area          int32\n",
       "Loan_Status            int32\n",
       "dtype: object"
      ]
     },
     "execution_count": 16,
     "metadata": {},
     "output_type": "execute_result"
    }
   ],
   "source": [
    "df_rev.dtypes"
   ]
  },
  {
   "cell_type": "code",
   "execution_count": 17,
   "metadata": {},
   "outputs": [],
   "source": [
    "data1 = pd.DataFrame(df)\n",
    "data1.drop(['Loan_Status'], axis = 1, inplace = True)"
   ]
  },
  {
   "cell_type": "code",
   "execution_count": 18,
   "metadata": {},
   "outputs": [],
   "source": [
    "data2 = pd.DataFrame(df_rev['Loan_Status'])"
   ]
  },
  {
   "cell_type": "code",
   "execution_count": 19,
   "metadata": {},
   "outputs": [
    {
     "name": "stdout",
     "output_type": "stream",
     "text": [
      "(614, 12)\n",
      "(614, 1)\n"
     ]
    }
   ],
   "source": [
    "print(data1.shape)\n",
    "print(data2.shape)"
   ]
  },
  {
   "cell_type": "code",
   "execution_count": 20,
   "metadata": {},
   "outputs": [
    {
     "name": "stdout",
     "output_type": "stream",
     "text": [
      "                            OLS Regression Results                            \n",
      "==============================================================================\n",
      "Dep. Variable:            Loan_Status   R-squared:                       0.207\n",
      "Model:                            OLS   Adj. R-squared:                  0.191\n",
      "Method:                 Least Squares   F-statistic:                     13.06\n",
      "Date:                Tue, 07 Jan 2020   Prob (F-statistic):           4.93e-24\n",
      "Time:                        22:21:37   Log-Likelihood:                -328.07\n",
      "No. Observations:                 614   AIC:                             682.1\n",
      "Df Residuals:                     601   BIC:                             739.6\n",
      "Df Model:                          12                                         \n",
      "Covariance Type:            nonrobust                                         \n",
      "=====================================================================================\n",
      "                        coef    std err          t      P>|t|      [0.025      0.975]\n",
      "-------------------------------------------------------------------------------------\n",
      "const                 0.3103      0.123      2.531      0.012       0.069       0.551\n",
      "Loan_ID               0.0001   9.67e-05      1.054      0.292    -8.8e-05       0.000\n",
      "Gender               -0.0290      0.047     -0.613      0.540      -0.122       0.064\n",
      "Married               0.1165      0.040      2.907      0.004       0.038       0.195\n",
      "Dependents           -0.0052      0.018     -0.287      0.774      -0.041       0.030\n",
      "Education            -0.0671      0.042     -1.594      0.111      -0.150       0.016\n",
      "Self_Employed         0.0017      0.050      0.033      0.973      -0.097       0.100\n",
      "ApplicantIncome   -6.008e-07   3.52e-06     -0.171      0.865   -7.52e-06    6.32e-06\n",
      "CoapplicantIncome -6.712e-06   6.16e-06     -1.089      0.277   -1.88e-05    5.39e-06\n",
      "LoanAmount           -0.0002      0.000     -0.662      0.508      -0.001       0.000\n",
      "Loan_Amount_Term     -0.0001      0.000     -0.438      0.662      -0.001       0.000\n",
      "Credit_History        0.4752      0.041     11.712      0.000       0.395       0.555\n",
      "Property_Area         0.0229      0.022      1.050      0.294      -0.020       0.066\n",
      "==============================================================================\n",
      "Omnibus:                       48.728   Durbin-Watson:                   1.964\n",
      "Prob(Omnibus):                  0.000   Jarque-Bera (JB):               57.368\n",
      "Skew:                          -0.733   Prob(JB):                     3.49e-13\n",
      "Kurtosis:                       2.692   Cond. No.                     6.06e+04\n",
      "==============================================================================\n",
      "\n",
      "Warnings:\n",
      "[1] Standard Errors assume that the covariance matrix of the errors is correctly specified.\n",
      "[2] The condition number is large, 6.06e+04. This might indicate that there are\n",
      "strong multicollinearity or other numerical problems.\n"
     ]
    }
   ],
   "source": [
    "import statsmodels.api as sm\n",
    "from scipy import stats\n",
    "\n",
    "X = pd.DataFrame(data1)\n",
    "y = pd.DataFrame(data2)\n",
    "\n",
    "X2 = sm.add_constant(X)\n",
    "est = sm.OLS(y, X2)\n",
    "est2 = est.fit()\n",
    "print(est2.summary())"
   ]
  },
  {
   "cell_type": "code",
   "execution_count": 21,
   "metadata": {},
   "outputs": [],
   "source": [
    "#We cannot drop variables based on the P-Value because all the important variables have [P-value>0.05] significance"
   ]
  },
  {
   "cell_type": "code",
   "execution_count": 22,
   "metadata": {},
   "outputs": [],
   "source": [
    "X = df_rev.values[:,:-1]\n",
    "Y =df_rev.values[:,-1]\n",
    "Y = Y.astype(int)"
   ]
  },
  {
   "cell_type": "code",
   "execution_count": 23,
   "metadata": {},
   "outputs": [
    {
     "name": "stdout",
     "output_type": "stream",
     "text": [
      "[[-1.72923217  0.47234264 -1.37208932 ...  0.2732313   0.54095432\n",
      "   1.22329839]\n",
      " [-1.7235903   0.47234264  0.72881553 ...  0.2732313   0.54095432\n",
      "  -1.31851281]\n",
      " [-1.71794844  0.47234264  0.72881553 ...  0.2732313   0.54095432\n",
      "   1.22329839]\n",
      " ...\n",
      " [ 1.71794844  0.47234264  0.72881553 ...  0.2732313   0.54095432\n",
      "   1.22329839]\n",
      " [ 1.7235903   0.47234264  0.72881553 ...  0.2732313   0.54095432\n",
      "   1.22329839]\n",
      " [ 1.72923217 -2.11710719 -1.37208932 ...  0.2732313  -1.84858491\n",
      "  -0.04760721]]\n"
     ]
    }
   ],
   "source": [
    "from sklearn.preprocessing import StandardScaler\n",
    "\n",
    "scaler = StandardScaler()\n",
    "scaler.fit(X)\n",
    "\n",
    "X = scaler.transform(X)\n",
    "print(X)"
   ]
  },
  {
   "cell_type": "code",
   "execution_count": 24,
   "metadata": {},
   "outputs": [],
   "source": [
    "from sklearn.model_selection import train_test_split\n",
    "X_train, X_test, Y_train, Y_test = train_test_split(X,Y, test_size = 0.3, random_state = 10)"
   ]
  },
  {
   "cell_type": "markdown",
   "metadata": {},
   "source": [
    "# Logistic Regression (Basic Model)"
   ]
  },
  {
   "cell_type": "code",
   "execution_count": 25,
   "metadata": {},
   "outputs": [
    {
     "name": "stdout",
     "output_type": "stream",
     "text": [
      "[[ 0.05679432 -0.10379083  0.31986825  0.04585003 -0.20673371 -0.04227105\n",
      "   0.03373491 -0.14231227 -0.04950089 -0.04778315  0.93373415  0.0589516 ]]\n",
      "[0.87693057]\n"
     ]
    }
   ],
   "source": [
    "#Building the model\n",
    "from sklearn.linear_model import LogisticRegression\n",
    "classifier=LogisticRegression() # creating the model object\n",
    "#Fitting the training data in the model\n",
    "classifier.fit(X_train,Y_train)\n",
    "Y_pred = classifier.predict(X_test)\n",
    "#print(list(zip(Y_test,Y_pred)))\n",
    "\n",
    "print(classifier.coef_)\n",
    "print(classifier.intercept_)"
   ]
  },
  {
   "cell_type": "code",
   "execution_count": 26,
   "metadata": {},
   "outputs": [
    {
     "name": "stdout",
     "output_type": "stream",
     "text": [
      "[[ 20  32]\n",
      " [ 12 121]]\n",
      "Classification report: \n",
      "              precision    recall  f1-score   support\n",
      "\n",
      "           0       0.62      0.38      0.48        52\n",
      "           1       0.79      0.91      0.85       133\n",
      "\n",
      "    accuracy                           0.76       185\n",
      "   macro avg       0.71      0.65      0.66       185\n",
      "weighted avg       0.74      0.76      0.74       185\n",
      "\n",
      "Accuracy of the model: 0.7621621621621621\n"
     ]
    }
   ],
   "source": [
    "#Evaluating the model\n",
    "\n",
    "from sklearn.metrics import confusion_matrix, accuracy_score, classification_report\n",
    "\n",
    "cfm= confusion_matrix (Y_test,Y_pred)\n",
    "print(cfm)\n",
    "\n",
    "print(\"Classification report: \")\n",
    "\n",
    "print(classification_report(Y_test,Y_pred))\n",
    "\n",
    "acc=accuracy_score(Y_test,Y_pred)\n",
    "print(\"Accuracy of the model:\",acc)"
   ]
  },
  {
   "cell_type": "code",
   "execution_count": 27,
   "metadata": {},
   "outputs": [
    {
     "name": "stdout",
     "output_type": "stream",
     "text": [
      "0.6471949103528051\n",
      "[0.         0.61538462 1.        ]\n",
      "[0.         0.90977444 1.        ]\n"
     ]
    }
   ],
   "source": [
    "from sklearn import metrics\n",
    "\n",
    "fpr, tpr,z = metrics.roc_curve(Y_test, Y_pred)\n",
    "auc = metrics.auc(fpr,tpr)\n",
    "print(auc)\n",
    "print(fpr)\n",
    "print(tpr)"
   ]
  },
  {
   "cell_type": "code",
   "execution_count": 28,
   "metadata": {},
   "outputs": [
    {
     "data": {
      "image/png": "[encoded data removed]",
      "text/plain": [
       "<Figure size 432x288 with 1 Axes>"
      ]
     },
     "metadata": {
      "needs_background": "light"
     },
     "output_type": "display_data"
    }
   ],
   "source": [
    "import matplotlib.pyplot as plt\n",
    "#%matplotlib inline\n",
    "plt.title('Receiver Operating Characteristic')\n",
    "plt.plot(fpr, tpr, 'b', label = auc)\n",
    "plt.legend(loc = 'lower right')\n",
    "plt.plot([0, 1], [0, 1],'r--')\n",
    "plt.xlim([0, 1])\n",
    "plt.ylim([0, 1])\n",
    "plt.xlabel('False Positive Rate')\n",
    "plt.ylabel('True Positive Rate')\n",
    "\n",
    "plt.show()"
   ]
  },
  {
   "cell_type": "code",
   "execution_count": null,
   "metadata": {},
   "outputs": [],
   "source": []
  },
  {
   "cell_type": "markdown",
   "metadata": {},
   "source": [
    "# adjusting Threshold (Tuning technique) - Logistic Regression "
   ]
  },
  {
   "cell_type": "code",
   "execution_count": 29,
   "metadata": {},
   "outputs": [
    {
     "name": "stdout",
     "output_type": "stream",
     "text": [
      "[[0.301495   0.698505  ]\n",
      " [0.75621947 0.24378053]\n",
      " [0.16567512 0.83432488]\n",
      " [0.20062858 0.79937142]\n",
      " [0.26953277 0.73046723]\n",
      " [0.26003982 0.73996018]\n",
      " [0.61423832 0.38576168]\n",
      " [0.16200043 0.83799957]\n",
      " [0.17398105 0.82601895]\n",
      " [0.22429015 0.77570985]\n",
      " [0.16909444 0.83090556]\n",
      " [0.15633186 0.84366814]\n",
      " [0.13511662 0.86488338]\n",
      " [0.18386945 0.81613055]\n",
      " [0.77621071 0.22378929]\n",
      " [0.38039887 0.61960113]\n",
      " [0.13912257 0.86087743]\n",
      " [0.14169276 0.85830724]\n",
      " [0.32335597 0.67664403]\n",
      " [0.26156638 0.73843362]\n",
      " [0.15444668 0.84555332]\n",
      " [0.13337352 0.86662648]\n",
      " [0.17186032 0.82813968]\n",
      " [0.66017155 0.33982845]\n",
      " [0.22075476 0.77924524]\n",
      " [0.16897008 0.83102992]\n",
      " [0.14474968 0.85525032]\n",
      " [0.20669665 0.79330335]\n",
      " [0.14875253 0.85124747]\n",
      " [0.1800637  0.8199363 ]\n",
      " [0.15608508 0.84391492]\n",
      " [0.20875084 0.79124916]\n",
      " [0.09371116 0.90628884]\n",
      " [0.74419136 0.25580864]\n",
      " [0.30748615 0.69251385]\n",
      " [0.1925992  0.8074008 ]\n",
      " [0.20527909 0.79472091]\n",
      " [0.16096774 0.83903226]\n",
      " [0.23821232 0.76178768]\n",
      " [0.68843908 0.31156092]\n",
      " [0.22266966 0.77733034]\n",
      " [0.1735048  0.8264952 ]\n",
      " [0.37902591 0.62097409]\n",
      " [0.28479064 0.71520936]\n",
      " [0.29733438 0.70266562]\n",
      " [0.12362843 0.87637157]\n",
      " [0.16240725 0.83759275]\n",
      " [0.31164279 0.68835721]\n",
      " [0.20253082 0.79746918]\n",
      " [0.20581499 0.79418501]\n",
      " [0.13694288 0.86305712]\n",
      " [0.2951237  0.7048763 ]\n",
      " [0.25613887 0.74386113]\n",
      " [0.23448432 0.76551568]\n",
      " [0.72708539 0.27291461]\n",
      " [0.2216692  0.7783308 ]\n",
      " [0.29725714 0.70274286]\n",
      " [0.71513634 0.28486366]\n",
      " [0.21913326 0.78086674]\n",
      " [0.11214476 0.88785524]\n",
      " [0.67028676 0.32971324]\n",
      " [0.15476056 0.84523944]\n",
      " [0.16344353 0.83655647]\n",
      " [0.37952669 0.62047331]\n",
      " [0.12796695 0.87203305]\n",
      " [0.30724302 0.69275698]\n",
      " [0.13576548 0.86423452]\n",
      " [0.14504777 0.85495223]\n",
      " [0.82474116 0.17525884]\n",
      " [0.26148947 0.73851053]\n",
      " [0.13864287 0.86135713]\n",
      " [0.29437707 0.70562293]\n",
      " [0.21142046 0.78857954]\n",
      " [0.72895606 0.27104394]\n",
      " [0.34827341 0.65172659]\n",
      " [0.12206643 0.87793357]\n",
      " [0.44128455 0.55871545]\n",
      " [0.18565738 0.81434262]\n",
      " [0.73382693 0.26617307]\n",
      " [0.18604278 0.81395722]\n",
      " [0.12788006 0.87211994]\n",
      " [0.73452016 0.26547984]\n",
      " [0.1684639  0.8315361 ]\n",
      " [0.30310989 0.69689011]\n",
      " [0.14807155 0.85192845]\n",
      " [0.15229982 0.84770018]\n",
      " [0.60797523 0.39202477]\n",
      " [0.86188056 0.13811944]\n",
      " [0.65230871 0.34769129]\n",
      " [0.12624647 0.87375353]\n",
      " [0.18766689 0.81233311]\n",
      " [0.25601684 0.74398316]\n",
      " [0.16472953 0.83527047]\n",
      " [0.14538204 0.85461796]\n",
      " [0.24603476 0.75396524]\n",
      " [0.20327958 0.79672042]\n",
      " [0.17912631 0.82087369]\n",
      " [0.1491589  0.8508411 ]\n",
      " [0.6482666  0.3517334 ]\n",
      " [0.20486817 0.79513183]\n",
      " [0.15992174 0.84007826]\n",
      " [0.26943593 0.73056407]\n",
      " [0.12916795 0.87083205]\n",
      " [0.14089307 0.85910693]\n",
      " [0.35917047 0.64082953]\n",
      " [0.25987874 0.74012126]\n",
      " [0.15114738 0.84885262]\n",
      " [0.13950463 0.86049537]\n",
      " [0.1976938  0.8023062 ]\n",
      " [0.81995706 0.18004294]\n",
      " [0.24269468 0.75730532]\n",
      " [0.21720057 0.78279943]\n",
      " [0.21469497 0.78530503]\n",
      " [0.28202316 0.71797684]\n",
      " [0.1645513  0.8354487 ]\n",
      " [0.16699469 0.83300531]\n",
      " [0.27122411 0.72877589]\n",
      " [0.69215013 0.30784987]\n",
      " [0.64133846 0.35866154]\n",
      " [0.24253027 0.75746973]\n",
      " [0.26307063 0.73692937]\n",
      " [0.22194387 0.77805613]\n",
      " [0.14275839 0.85724161]\n",
      " [0.67169869 0.32830131]\n",
      " [0.14660194 0.85339806]\n",
      " [0.30906954 0.69093046]\n",
      " [0.28579322 0.71420678]\n",
      " [0.15303709 0.84696291]\n",
      " [0.20631703 0.79368297]\n",
      " [0.16336984 0.83663016]\n",
      " [0.26935147 0.73064853]\n",
      " [0.68590064 0.31409936]\n",
      " [0.14606963 0.85393037]\n",
      " [0.17522091 0.82477909]\n",
      " [0.17847198 0.82152802]\n",
      " [0.10469745 0.89530255]\n",
      " [0.13976031 0.86023969]\n",
      " [0.25171631 0.74828369]\n",
      " [0.23497143 0.76502857]\n",
      " [0.14173643 0.85826357]\n",
      " [0.62706706 0.37293294]\n",
      " [0.62496143 0.37503857]\n",
      " [0.31601861 0.68398139]\n",
      " [0.74642712 0.25357288]\n",
      " [0.14722458 0.85277542]\n",
      " [0.3139239  0.6860761 ]\n",
      " [0.69412729 0.30587271]\n",
      " [0.71296079 0.28703921]\n",
      " [0.17148935 0.82851065]\n",
      " [0.17012479 0.82987521]\n",
      " [0.39168548 0.60831452]\n",
      " [0.39268341 0.60731659]\n",
      " [0.21214924 0.78785076]\n",
      " [0.1759737  0.8240263 ]\n",
      " [0.35330711 0.64669289]\n",
      " [0.62710298 0.37289702]\n",
      " [0.27947609 0.72052391]\n",
      " [0.22246216 0.77753784]\n",
      " [0.63307939 0.36692061]\n",
      " [0.80880223 0.19119777]\n",
      " [0.26150095 0.73849905]\n",
      " [0.61864416 0.38135584]\n",
      " [0.17165887 0.82834113]\n",
      " [0.17056974 0.82943026]\n",
      " [0.21881905 0.78118095]\n",
      " [0.32729915 0.67270085]\n",
      " [0.13691646 0.86308354]\n",
      " [0.1514026  0.8485974 ]\n",
      " [0.18760434 0.81239566]\n",
      " [0.22138467 0.77861533]\n",
      " [0.24597861 0.75402139]\n",
      " [0.2622971  0.7377029 ]\n",
      " [0.65367856 0.34632144]\n",
      " [0.2923284  0.7076716 ]\n",
      " [0.17608514 0.82391486]\n",
      " [0.16667968 0.83332032]\n",
      " [0.26849415 0.73150585]\n",
      " [0.27540103 0.72459897]\n",
      " [0.15746636 0.84253364]\n",
      " [0.28016553 0.71983447]\n",
      " [0.11346556 0.88653444]\n",
      " [0.21428814 0.78571186]\n",
      " [0.13193819 0.86806181]\n",
      " [0.13173022 0.86826978]\n",
      " [0.17098273 0.82901727]]\n"
     ]
    }
   ],
   "source": [
    "#Store the predicted probabilities\n",
    "Y_pred_prob = classifier.predict_proba(X_test)\n",
    "print(Y_pred_prob)"
   ]
  },
  {
   "cell_type": "code",
   "execution_count": 30,
   "metadata": {
    "scrolled": true
   },
   "outputs": [
    {
     "name": "stdout",
     "output_type": "stream",
     "text": [
      "Errors at threshold  0.0 : 52  , Type 2 error: 0  , Type 1 error: 52\n",
      "Errors at threshold  0.01 : 52  , Type 2 error: 0  , Type 1 error: 52\n",
      "Errors at threshold  0.02 : 52  , Type 2 error: 0  , Type 1 error: 52\n",
      "Errors at threshold  0.03 : 52  , Type 2 error: 0  , Type 1 error: 52\n",
      "Errors at threshold  0.04 : 52  , Type 2 error: 0  , Type 1 error: 52\n",
      "Errors at threshold  0.05 : 52  , Type 2 error: 0  , Type 1 error: 52\n",
      "Errors at threshold  0.06 : 52  , Type 2 error: 0  , Type 1 error: 52\n",
      "Errors at threshold  0.07 : 52  , Type 2 error: 0  , Type 1 error: 52\n",
      "Errors at threshold  0.08 : 52  , Type 2 error: 0  , Type 1 error: 52\n",
      "Errors at threshold  0.09 : 52  , Type 2 error: 0  , Type 1 error: 52\n",
      "Errors at threshold  0.1 : 52  , Type 2 error: 0  , Type 1 error: 52\n",
      "Errors at threshold  0.11 : 52  , Type 2 error: 0  , Type 1 error: 52\n",
      "Errors at threshold  0.12 : 52  , Type 2 error: 0  , Type 1 error: 52\n",
      "Errors at threshold  0.13 : 52  , Type 2 error: 0  , Type 1 error: 52\n",
      "Errors at threshold  0.14 : 51  , Type 2 error: 0  , Type 1 error: 51\n",
      "Errors at threshold  0.15 : 51  , Type 2 error: 0  , Type 1 error: 51\n",
      "Errors at threshold  0.16 : 51  , Type 2 error: 0  , Type 1 error: 51\n",
      "Errors at threshold  0.17 : 51  , Type 2 error: 0  , Type 1 error: 51\n",
      "Errors at threshold  0.18 : 52  , Type 2 error: 1  , Type 1 error: 51\n",
      "Errors at threshold  0.19 : 51  , Type 2 error: 1  , Type 1 error: 50\n",
      "Errors at threshold  0.2 : 50  , Type 2 error: 1  , Type 1 error: 49\n",
      "Errors at threshold  0.21 : 50  , Type 2 error: 1  , Type 1 error: 49\n",
      "Errors at threshold  0.22 : 50  , Type 2 error: 1  , Type 1 error: 49\n",
      "Errors at threshold  0.23 : 51  , Type 2 error: 2  , Type 1 error: 49\n",
      "Errors at threshold  0.24 : 51  , Type 2 error: 2  , Type 1 error: 49\n",
      "Errors at threshold  0.25 : 52  , Type 2 error: 3  , Type 1 error: 49\n",
      "Errors at threshold  0.26 : 50  , Type 2 error: 3  , Type 1 error: 47\n",
      "Errors at threshold  0.27 : 48  , Type 2 error: 3  , Type 1 error: 45\n",
      "Errors at threshold  0.28 : 46  , Type 2 error: 3  , Type 1 error: 43\n",
      "Errors at threshold  0.29 : 46  , Type 2 error: 4  , Type 1 error: 42\n",
      "Errors at threshold  0.3 : 46  , Type 2 error: 4  , Type 1 error: 42\n",
      "Errors at threshold  0.31 : 48  , Type 2 error: 6  , Type 1 error: 42\n",
      "Errors at threshold  0.32 : 50  , Type 2 error: 8  , Type 1 error: 42\n",
      "Errors at threshold  0.33 : 50  , Type 2 error: 9  , Type 1 error: 41\n",
      "Errors at threshold  0.34 : 49  , Type 2 error: 9  , Type 1 error: 40\n",
      "Errors at threshold  0.35000000000000003 : 47  , Type 2 error: 9  , Type 1 error: 38\n",
      "Errors at threshold  0.36 : 45  , Type 2 error: 9  , Type 1 error: 36\n",
      "Errors at threshold  0.37 : 44  , Type 2 error: 9  , Type 1 error: 35\n",
      "Errors at threshold  0.38 : 45  , Type 2 error: 11  , Type 1 error: 34\n",
      "Errors at threshold  0.39 : 45  , Type 2 error: 12  , Type 1 error: 33\n",
      "Errors at threshold  0.4 : 44  , Type 2 error: 12  , Type 1 error: 32\n",
      "Errors at threshold  0.41000000000000003 : 44  , Type 2 error: 12  , Type 1 error: 32\n",
      "Errors at threshold  0.42 : 44  , Type 2 error: 12  , Type 1 error: 32\n",
      "Errors at threshold  0.43 : 44  , Type 2 error: 12  , Type 1 error: 32\n",
      "Errors at threshold  0.44 : 44  , Type 2 error: 12  , Type 1 error: 32\n",
      "Errors at threshold  0.45 : 44  , Type 2 error: 12  , Type 1 error: 32\n",
      "Errors at threshold  0.46 : 44  , Type 2 error: 12  , Type 1 error: 32\n",
      "Errors at threshold  0.47000000000000003 : 44  , Type 2 error: 12  , Type 1 error: 32\n",
      "Errors at threshold  0.48 : 44  , Type 2 error: 12  , Type 1 error: 32\n",
      "Errors at threshold  0.49 : 44  , Type 2 error: 12  , Type 1 error: 32\n",
      "Errors at threshold  0.5 : 44  , Type 2 error: 12  , Type 1 error: 32\n",
      "Errors at threshold  0.51 : 44  , Type 2 error: 12  , Type 1 error: 32\n",
      "Errors at threshold  0.52 : 44  , Type 2 error: 12  , Type 1 error: 32\n",
      "Errors at threshold  0.53 : 44  , Type 2 error: 12  , Type 1 error: 32\n",
      "Errors at threshold  0.54 : 44  , Type 2 error: 12  , Type 1 error: 32\n",
      "Errors at threshold  0.55 : 44  , Type 2 error: 12  , Type 1 error: 32\n",
      "Errors at threshold  0.56 : 45  , Type 2 error: 13  , Type 1 error: 32\n",
      "Errors at threshold  0.5700000000000001 : 45  , Type 2 error: 13  , Type 1 error: 32\n",
      "Errors at threshold  0.58 : 45  , Type 2 error: 13  , Type 1 error: 32\n",
      "Errors at threshold  0.59 : 45  , Type 2 error: 13  , Type 1 error: 32\n",
      "Errors at threshold  0.6 : 45  , Type 2 error: 13  , Type 1 error: 32\n",
      "Errors at threshold  0.61 : 45  , Type 2 error: 14  , Type 1 error: 31\n",
      "Errors at threshold  0.62 : 46  , Type 2 error: 15  , Type 1 error: 31\n",
      "Errors at threshold  0.63 : 46  , Type 2 error: 16  , Type 1 error: 30\n",
      "Errors at threshold  0.64 : 46  , Type 2 error: 16  , Type 1 error: 30\n",
      "Errors at threshold  0.65 : 46  , Type 2 error: 17  , Type 1 error: 29\n",
      "Errors at threshold  0.66 : 47  , Type 2 error: 18  , Type 1 error: 29\n",
      "Errors at threshold  0.67 : 47  , Type 2 error: 18  , Type 1 error: 29\n",
      "Errors at threshold  0.68 : 49  , Type 2 error: 20  , Type 1 error: 29\n",
      "Errors at threshold  0.6900000000000001 : 50  , Type 2 error: 22  , Type 1 error: 28\n",
      "Errors at threshold  0.7000000000000001 : 53  , Type 2 error: 26  , Type 1 error: 27\n",
      "Errors at threshold  0.71 : 54  , Type 2 error: 29  , Type 1 error: 25\n",
      "Errors at threshold  0.72 : 58  , Type 2 error: 33  , Type 1 error: 25\n",
      "Errors at threshold  0.73 : 61  , Type 2 error: 36  , Type 1 error: 25\n",
      "Errors at threshold  0.74 : 65  , Type 2 error: 43  , Type 1 error: 22\n",
      "Errors at threshold  0.75 : 65  , Type 2 error: 45  , Type 1 error: 20\n",
      "Errors at threshold  0.76 : 67  , Type 2 error: 48  , Type 1 error: 19\n",
      "Errors at threshold  0.77 : 70  , Type 2 error: 51  , Type 1 error: 19\n",
      "Errors at threshold  0.78 : 73  , Type 2 error: 56  , Type 1 error: 17\n",
      "Errors at threshold  0.79 : 78  , Type 2 error: 62  , Type 1 error: 16\n",
      "Errors at threshold  0.8 : 85  , Type 2 error: 70  , Type 1 error: 15\n",
      "Errors at threshold  0.81 : 85  , Type 2 error: 71  , Type 1 error: 14\n",
      "Errors at threshold  0.8200000000000001 : 89  , Type 2 error: 76  , Type 1 error: 13\n",
      "Errors at threshold  0.8300000000000001 : 94  , Type 2 error: 85  , Type 1 error: 9\n",
      "Errors at threshold  0.84 : 105  , Type 2 error: 97  , Type 1 error: 8\n",
      "Errors at threshold  0.85 : 109  , Type 2 error: 104  , Type 1 error: 5\n",
      "Errors at threshold  0.86 : 120  , Type 2 error: 116  , Type 1 error: 4\n",
      "Errors at threshold  0.87 : 125  , Type 2 error: 124  , Type 1 error: 1\n",
      "Errors at threshold  0.88 : 129  , Type 2 error: 129  , Type 1 error: 0\n",
      "Errors at threshold  0.89 : 131  , Type 2 error: 131  , Type 1 error: 0\n",
      "Errors at threshold  0.9 : 132  , Type 2 error: 132  , Type 1 error: 0\n",
      "Errors at threshold  0.91 : 133  , Type 2 error: 133  , Type 1 error: 0\n",
      "Errors at threshold  0.92 : 133  , Type 2 error: 133  , Type 1 error: 0\n",
      "Errors at threshold  0.93 : 133  , Type 2 error: 133  , Type 1 error: 0\n",
      "Errors at threshold  0.9400000000000001 : 133  , Type 2 error: 133  , Type 1 error: 0\n",
      "Errors at threshold  0.9500000000000001 : 133  , Type 2 error: 133  , Type 1 error: 0\n",
      "Errors at threshold  0.96 : 133  , Type 2 error: 133  , Type 1 error: 0\n",
      "Errors at threshold  0.97 : 133  , Type 2 error: 133  , Type 1 error: 0\n",
      "Errors at threshold  0.98 : 133  , Type 2 error: 133  , Type 1 error: 0\n",
      "Errors at threshold  0.99 : 133  , Type 2 error: 133  , Type 1 error: 0\n"
     ]
    }
   ],
   "source": [
    "for a in np.arange(0,1,0.01):\n",
    "    predict_mine = np.where(Y_pred_prob[:,1] > a, 1, 0)\n",
    "    cfm=confusion_matrix(Y_test, predict_mine)\n",
    "    total_err=cfm[0,1]+cfm[1,0]\n",
    "    print(\"Errors at threshold \", a, \":\",total_err, \" , Type 2 error:\",\n",
    "       cfm[1,0],\" , Type 1 error:\", cfm[0,1])"
   ]
  },
  {
   "cell_type": "code",
   "execution_count": 31,
   "metadata": {},
   "outputs": [
    {
     "name": "stdout",
     "output_type": "stream",
     "text": [
      "[1, 0, 1, 1, 1, 1, 1, 1, 1, 1, 1, 1, 1, 1, 0, 1, 1, 1, 1, 1, 1, 1, 1, 0, 1, 1, 1, 1, 1, 1, 1, 1, 1, 0, 1, 1, 1, 1, 1, 0, 1, 1, 1, 1, 1, 1, 1, 1, 1, 1, 1, 1, 1, 1, 0, 1, 1, 0, 1, 1, 0, 1, 1, 1, 1, 1, 1, 1, 0, 1, 1, 1, 1, 0, 1, 1, 1, 1, 0, 1, 1, 0, 1, 1, 1, 1, 1, 0, 0, 1, 1, 1, 1, 1, 1, 1, 1, 1, 0, 1, 1, 1, 1, 1, 1, 1, 1, 1, 1, 0, 1, 1, 1, 1, 1, 1, 1, 0, 0, 1, 1, 1, 1, 0, 1, 1, 1, 1, 1, 1, 1, 0, 1, 1, 1, 1, 1, 1, 1, 1, 1, 1, 1, 0, 1, 1, 0, 0, 1, 1, 1, 1, 1, 1, 1, 1, 1, 1, 0, 0, 1, 1, 1, 1, 1, 1, 1, 1, 1, 1, 1, 1, 0, 1, 1, 1, 1, 1, 1, 1, 1, 1, 1, 1, 1]\n"
     ]
    }
   ],
   "source": [
    "Y_pred_class = []\n",
    "for value in Y_pred_prob[:,1]:\n",
    "    if value > 0.37:\n",
    "        Y_pred_class.append(1)\n",
    "    else:\n",
    "        Y_pred_class.append(0)\n",
    "print(Y_pred_class)"
   ]
  },
  {
   "cell_type": "code",
   "execution_count": 32,
   "metadata": {},
   "outputs": [
    {
     "name": "stdout",
     "output_type": "stream",
     "text": [
      "[[ 17  35]\n",
      " [  9 124]]\n",
      "Classification report: \n",
      "              precision    recall  f1-score   support\n",
      "\n",
      "           0       0.65      0.33      0.44        52\n",
      "           1       0.78      0.93      0.85       133\n",
      "\n",
      "    accuracy                           0.76       185\n",
      "   macro avg       0.72      0.63      0.64       185\n",
      "weighted avg       0.74      0.76      0.73       185\n",
      "\n",
      "Accuracy of the model: 0.7621621621621621\n"
     ]
    }
   ],
   "source": [
    "#Evaluating the model\n",
    "\n",
    "from sklearn.metrics import confusion_matrix, accuracy_score, classification_report\n",
    "\n",
    "cfm= confusion_matrix (Y_test,Y_pred_class)\n",
    "print(cfm)\n",
    "\n",
    "print(\"Classification report: \")\n",
    "\n",
    "print(classification_report(Y_test,Y_pred_class))\n",
    "\n",
    "acc=accuracy_score(Y_test,Y_pred_class)\n",
    "print(\"Accuracy of the model:\",acc)"
   ]
  },
  {
   "cell_type": "code",
   "execution_count": 33,
   "metadata": {},
   "outputs": [
    {
     "name": "stdout",
     "output_type": "stream",
     "text": [
      "0.629626951995373\n",
      "[0.         0.67307692 1.        ]\n",
      "[0.         0.93233083 1.        ]\n"
     ]
    },
    {
     "data": {
      "image/png": "[encoded data removed]",
      "text/plain": [
       "<Figure size 432x288 with 1 Axes>"
      ]
     },
     "metadata": {
      "needs_background": "light"
     },
     "output_type": "display_data"
    }
   ],
   "source": [
    "from sklearn import metrics\n",
    "fpr, tpr,z = metrics.roc_curve(Y_test, Y_pred_class)\n",
    "auc = metrics.auc(fpr,tpr)\n",
    "print(auc)\n",
    "print(fpr)\n",
    "print(tpr)\n",
    "\n",
    "import matplotlib.pyplot as plt\n",
    "#%matplotlib inline\n",
    "plt.title('Receiver Operating Characteristic')\n",
    "plt.plot(fpr, tpr, 'b', label = auc)\n",
    "plt.legend(loc = 'lower right')\n",
    "plt.plot([0, 1], [0, 1],'r--')\n",
    "plt.xlim([0, 1])\n",
    "plt.ylim([0, 1])\n",
    "plt.xlabel('False Positive Rate')\n",
    "plt.ylabel('True Positive Rate')\n",
    "\n",
    "plt.show()"
   ]
  },
  {
   "cell_type": "code",
   "execution_count": null,
   "metadata": {},
   "outputs": [],
   "source": []
  },
  {
   "cell_type": "markdown",
   "metadata": {},
   "source": [
    "# cross-validation (tuning technique) - Logistic Regression"
   ]
  },
  {
   "cell_type": "code",
   "execution_count": 34,
   "metadata": {},
   "outputs": [
    {
     "name": "stdout",
     "output_type": "stream",
     "text": [
      "KFold(n_splits=10, random_state=None, shuffle=False)\n",
      "[0.88372093 0.81395349 0.79069767 0.79069767 0.81395349 0.81395349\n",
      " 0.74418605 0.60465116 0.79069767 0.61904762]\n",
      "0.7665559246954595\n"
     ]
    }
   ],
   "source": [
    "#Using cross validation\n",
    "\n",
    "classifier=(LogisticRegression())\n",
    "\n",
    "#performing kfold_cross_validation\n",
    "from sklearn.model_selection import KFold\n",
    "kfold_cv=KFold(n_splits=10)\n",
    "print(kfold_cv)\n",
    "\n",
    "from sklearn.model_selection import cross_val_score\n",
    "#running the model using scoring metric as accuracy\n",
    "kfold_cv_result=cross_val_score(estimator=classifier,X=X_train,\n",
    "y=Y_train, cv=kfold_cv)\n",
    "print(kfold_cv_result)\n",
    "#finding the mean\n",
    "print(kfold_cv_result.mean())\n",
    "\n",
    "#_______________________________________________________\n",
    "\n",
    "for train_value, test_value in kfold_cv.split(X_train):\n",
    "    classifier.fit(X_train[train_value], Y_train[train_value]).predict(X_train[test_value])\n",
    "\n",
    "\n",
    "Y_pred_1=classifier.predict(X_test)\n",
    "#print(list(zip(Y_test,Y_pred)))"
   ]
  },
  {
   "cell_type": "code",
   "execution_count": 35,
   "metadata": {},
   "outputs": [
    {
     "name": "stdout",
     "output_type": "stream",
     "text": [
      "[[ 20  32]\n",
      " [ 12 121]]\n",
      "Classification report : \n",
      "              precision    recall  f1-score   support\n",
      "\n",
      "           0       0.62      0.38      0.48        52\n",
      "           1       0.79      0.91      0.85       133\n",
      "\n",
      "    accuracy                           0.76       185\n",
      "   macro avg       0.71      0.65      0.66       185\n",
      "weighted avg       0.74      0.76      0.74       185\n",
      "\n",
      "Accuracy of the model :  0.7621621621621621\n"
     ]
    }
   ],
   "source": [
    "from sklearn.metrics import confusion_matrix,accuracy_score,classification_report\n",
    "\n",
    "cfm = confusion_matrix(Y_test,Y_pred_1)\n",
    "print(cfm)\n",
    "\n",
    "print(\"Classification report : \")\n",
    "\n",
    "print(classification_report(Y_test,Y_pred_1))\n",
    "\n",
    "acc = accuracy_score(Y_test,Y_pred_1)\n",
    "print(\"Accuracy of the model : \",acc)"
   ]
  },
  {
   "cell_type": "code",
   "execution_count": null,
   "metadata": {},
   "outputs": [],
   "source": []
  },
  {
   "cell_type": "markdown",
   "metadata": {},
   "source": [
    "# Decision Tree (Basic Model)"
   ]
  },
  {
   "cell_type": "code",
   "execution_count": 36,
   "metadata": {},
   "outputs": [
    {
     "data": {
      "text/plain": [
       "DecisionTreeClassifier(class_weight=None, criterion='gini', max_depth=10,\n",
       "                       max_features=None, max_leaf_nodes=None,\n",
       "                       min_impurity_decrease=0.0, min_impurity_split=None,\n",
       "                       min_samples_leaf=5, min_samples_split=2,\n",
       "                       min_weight_fraction_leaf=0.0, presort=False,\n",
       "                       random_state=15, splitter='best')"
      ]
     },
     "execution_count": 36,
     "metadata": {},
     "output_type": "execute_result"
    }
   ],
   "source": [
    "# Predicting using Decision_Tree_classifier\n",
    "from sklearn.tree import DecisionTreeClassifier\n",
    "\n",
    "model_DT = DecisionTreeClassifier(random_state = 15, min_samples_leaf=5,max_depth=10)\n",
    "\n",
    "#fit the model on the data and predict the value\n",
    "model_DT.fit(X_train,Y_train)"
   ]
  },
  {
   "cell_type": "code",
   "execution_count": 37,
   "metadata": {},
   "outputs": [
    {
     "name": "stdout",
     "output_type": "stream",
     "text": [
      "[(1, 1), (1, 1), (1, 1), (1, 1), (0, 1), (1, 1), (0, 0), (1, 1), (0, 1), (1, 0), (1, 1), (1, 1), (1, 1), (1, 1), (1, 0), (1, 1), (1, 1), (1, 1), (1, 1), (0, 1), (1, 1), (1, 1), (1, 1), (0, 1), (1, 1), (1, 1), (1, 1), (1, 1), (0, 1), (1, 1), (0, 1), (1, 1), (1, 1), (0, 0), (1, 1), (1, 1), (1, 0), (1, 1), (1, 0), (1, 1), (0, 1), (1, 1), (0, 1), (1, 1), (0, 0), (1, 1), (1, 1), (0, 1), (1, 0), (1, 1), (1, 1), (1, 0), (0, 1), (1, 1), (0, 0), (1, 1), (0, 0), (0, 0), (1, 1), (1, 0), (0, 0), (0, 1), (1, 1), (1, 0), (1, 1), (0, 1), (0, 1), (1, 1), (1, 0), (0, 1), (1, 1), (1, 0), (1, 1), (0, 0), (1, 1), (1, 1), (1, 1), (1, 1), (0, 0), (1, 1), (1, 1), (0, 0), (1, 1), (1, 0), (1, 1), (1, 1), (0, 0), (0, 0), (0, 0), (0, 1), (1, 0), (1, 0), (0, 1), (1, 1), (1, 1), (1, 0), (1, 1), (1, 1), (0, 0), (0, 1), (1, 1), (1, 1), (1, 1), (1, 0), (1, 1), (1, 1), (1, 1), (1, 1), (0, 0), (0, 0), (0, 1), (1, 0), (1, 1), (1, 1), (1, 0), (1, 1), (1, 1), (1, 0), (0, 0), (1, 1), (1, 1), (0, 1), (1, 1), (1, 0), (1, 1), (1, 0), (1, 0), (1, 1), (1, 0), (1, 1), (1, 1), (1, 0), (1, 1), (1, 1), (0, 0), (1, 1), (0, 1), (0, 0), (1, 1), (1, 1), (1, 0), (1, 0), (1, 1), (0, 1), (1, 1), (1, 1), (1, 0), (1, 0), (1, 1), (1, 1), (1, 0), (0, 1), (1, 1), (1, 1), (0, 0), (0, 0), (1, 1), (1, 1), (0, 0), (0, 0), (1, 1), (1, 0), (0, 0), (1, 1), (0, 1), (1, 1), (1, 1), (0, 1), (0, 1), (1, 1), (1, 1), (1, 1), (0, 1), (1, 1), (1, 1), (1, 1), (1, 1), (1, 1), (1, 1), (1, 1), (1, 1), (1, 1), (1, 1), (0, 1), (0, 1)]\n"
     ]
    }
   ],
   "source": [
    "Y_pred = model_DT.predict(X_test)\n",
    "print(list(zip(Y_test,Y_pred)))"
   ]
  },
  {
   "cell_type": "code",
   "execution_count": 38,
   "metadata": {},
   "outputs": [
    {
     "name": "stdout",
     "output_type": "stream",
     "text": [
      "[[ 24  28]\n",
      " [ 29 104]]\n",
      "Classification report : \n",
      "              precision    recall  f1-score   support\n",
      "\n",
      "           0       0.45      0.46      0.46        52\n",
      "           1       0.79      0.78      0.78       133\n",
      "\n",
      "    accuracy                           0.69       185\n",
      "   macro avg       0.62      0.62      0.62       185\n",
      "weighted avg       0.69      0.69      0.69       185\n",
      "\n",
      "Accuracy of the model :  0.6918918918918919\n"
     ]
    }
   ],
   "source": [
    "from sklearn.metrics import confusion_matrix,accuracy_score,classification_report\n",
    "\n",
    "cfm = confusion_matrix(Y_test,Y_pred)\n",
    "print(cfm)\n",
    "\n",
    "print(\"Classification report : \")\n",
    "\n",
    "print(classification_report(Y_test,Y_pred))\n",
    "\n",
    "acc = accuracy_score(Y_test,Y_pred)\n",
    "print(\"Accuracy of the model : \",acc)"
   ]
  },
  {
   "cell_type": "markdown",
   "metadata": {},
   "source": [
    "# SVM [Support Vector Classification] (Basic Model) "
   ]
  },
  {
   "cell_type": "code",
   "execution_count": 39,
   "metadata": {},
   "outputs": [
    {
     "name": "stdout",
     "output_type": "stream",
     "text": [
      "[1, 0, 1, 1, 1, 1, 0, 1, 1, 1, 1, 1, 1, 1, 0, 1, 1, 1, 1, 1, 1, 1, 1, 0, 1, 1, 1, 1, 1, 1, 1, 1, 1, 0, 1, 1, 1, 1, 1, 0, 1, 1, 1, 1, 1, 1, 1, 1, 1, 1, 1, 1, 1, 1, 0, 1, 1, 0, 1, 1, 0, 1, 1, 1, 1, 1, 1, 1, 0, 1, 1, 1, 1, 0, 1, 1, 1, 1, 0, 1, 1, 0, 1, 1, 1, 1, 0, 0, 0, 1, 1, 1, 1, 1, 1, 1, 1, 1, 0, 1, 1, 1, 1, 1, 1, 1, 1, 1, 1, 0, 1, 1, 1, 1, 1, 1, 1, 0, 0, 1, 1, 1, 1, 0, 1, 1, 1, 1, 1, 1, 1, 0, 1, 1, 1, 1, 1, 1, 1, 1, 0, 0, 1, 0, 1, 1, 0, 0, 1, 1, 1, 1, 1, 1, 1, 0, 1, 1, 0, 0, 1, 0, 1, 1, 1, 1, 1, 1, 1, 1, 1, 1, 0, 1, 1, 1, 1, 1, 1, 1, 1, 1, 1, 1, 1]\n"
     ]
    }
   ],
   "source": [
    "from sklearn import svm\n",
    "\n",
    "svc_model = svm.SVC(kernel=\"rbf\",C=10.0,gamma=0.001) \n",
    "svc_model.fit(X_train,Y_train)\n",
    "Y_pred = svc_model.predict(X_test)\n",
    "print(list(Y_pred))"
   ]
  },
  {
   "cell_type": "code",
   "execution_count": 40,
   "metadata": {},
   "outputs": [
    {
     "data": {
      "text/plain": [
       "0.7738927738927739"
      ]
     },
     "execution_count": 40,
     "metadata": {},
     "output_type": "execute_result"
    }
   ],
   "source": [
    "svc_model.score(X_train,Y_train)"
   ]
  },
  {
   "cell_type": "markdown",
   "metadata": {},
   "source": [
    "# cross-validation (tuning technique) - SVM"
   ]
  },
  {
   "cell_type": "code",
   "execution_count": 41,
   "metadata": {},
   "outputs": [
    {
     "name": "stdout",
     "output_type": "stream",
     "text": [
      "KFold(n_splits=10, random_state=None, shuffle=False)\n",
      "[0.86046512 0.8372093  0.86046512 0.79069767 0.79069767 0.79069767\n",
      " 0.74418605 0.58139535 0.76744186 0.5952381 ]\n",
      "0.7618493909191584\n"
     ]
    }
   ],
   "source": [
    "#Using cross validation\n",
    "from sklearn.linear_model import LogisticRegression\n",
    "from sklearn import svm\n",
    "from sklearn.neighbors import KNeighborsClassifier\n",
    "\n",
    "classifier=svm.SVC(kernel='rbf',C=1.0,gamma=0.1)\n",
    "#classifier=KNeighborsClassifier(n_neighbors=11, metric='euclidean')\n",
    "#classifier=svm.SVC(kernel='rbf',C=10.0,gamma=0.001)\n",
    "#classifier=LogisticRegression()\n",
    "\n",
    "#performing kfold_cross_validation\n",
    "from sklearn.model_selection import KFold\n",
    "kfold_cv=KFold(n_splits=10)\n",
    "print(kfold_cv)\n",
    "\n",
    "from sklearn.model_selection import cross_val_score\n",
    "#running the model using scoring metric as accuracy\n",
    "kfold_cv_result=cross_val_score(estimator=classifier,X=X_train,\n",
    "y=Y_train, cv=kfold_cv)\n",
    "print(kfold_cv_result)\n",
    "#finding the mean\n",
    "print(kfold_cv_result.mean())"
   ]
  },
  {
   "cell_type": "code",
   "execution_count": 42,
   "metadata": {},
   "outputs": [],
   "source": [
    "# Best fit model = SVM (Base Model)"
   ]
  }
 ],
 "metadata": {
  "kernelspec": {
   "display_name": "Python 3",
   "language": "python",
   "name": "python3"
  },
  "language_info": {
   "codemirror_mode": {
    "name": "ipython",
    "version": 3
   },
   "file_extension": ".py",
   "mimetype": "text/x-python",
   "name": "python",
   "nbconvert_exporter": "python",
   "pygments_lexer": "ipython3",
   "version": "3.7.4"
  }
 },
 "nbformat": 4,
 "nbformat_minor": 2
}
